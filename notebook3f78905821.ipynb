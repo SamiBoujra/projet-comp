{
 "cells": [
  {
   "cell_type": "code",
   "execution_count": 1,
   "id": "0116f4f5",
   "metadata": {
    "_cell_guid": "b1076dfc-b9ad-4769-8c92-a6c4dae69d19",
    "_uuid": "8f2839f25d086af736a60e9eeb907d3b93b6e0e5",
    "execution": {
     "iopub.execute_input": "2024-07-25T08:13:36.465585Z",
     "iopub.status.busy": "2024-07-25T08:13:36.465169Z",
     "iopub.status.idle": "2024-07-25T08:13:37.492259Z",
     "shell.execute_reply": "2024-07-25T08:13:37.490840Z"
    },
    "papermill": {
     "duration": 1.035381,
     "end_time": "2024-07-25T08:13:37.494953",
     "exception": false,
     "start_time": "2024-07-25T08:13:36.459572",
     "status": "completed"
    },
    "tags": []
   },
   "outputs": [
    {
     "name": "stdout",
     "output_type": "stream",
     "text": [
      "/kaggle/input/titanic/train.csv\n",
      "/kaggle/input/titanic/test.csv\n",
      "/kaggle/input/titanic/gender_submission.csv\n",
      "/kaggle/input/gender-submission-csv/gender_submission.csv\n"
     ]
    }
   ],
   "source": [
    "# This Python 3 environment comes with many helpful analytics libraries installed\n",
    "# It is defined by the kaggle/python Docker image: https://github.com/kaggle/docker-python\n",
    "# For example, here's several helpful packages to load\n",
    "\n",
    "import numpy as np # linear algebra\n",
    "import pandas as pd # data processing, CSV file I/O (e.g. pd.read_csv)\n",
    "\n",
    "# Input data files are available in the read-only \"../input/\" directory\n",
    "# For example, running this (by clicking run or pressing Shift+Enter) will list all files under the input directory\n",
    "\n",
    "import os\n",
    "for dirname, _, filenames in os.walk('/kaggle/input'):\n",
    "    for filename in filenames:\n",
    "        print(os.path.join(dirname, filename))\n",
    "\n",
    "# You can write up to 20GB to the current directory (/kaggle/working/) that gets preserved as output when you create a version using \"Save & Run All\" \n",
    "# You can also write temporary files to /kaggle/temp/, but they won't be saved outside of the current session"
   ]
  },
  {
   "cell_type": "code",
   "execution_count": 2,
   "id": "f4aef065",
   "metadata": {
    "execution": {
     "iopub.execute_input": "2024-07-25T08:13:37.504401Z",
     "iopub.status.busy": "2024-07-25T08:13:37.503879Z",
     "iopub.status.idle": "2024-07-25T08:13:39.380845Z",
     "shell.execute_reply": "2024-07-25T08:13:39.379629Z"
    },
    "papermill": {
     "duration": 1.886135,
     "end_time": "2024-07-25T08:13:39.385029",
     "exception": false,
     "start_time": "2024-07-25T08:13:37.498894",
     "status": "completed"
    },
    "tags": []
   },
   "outputs": [
    {
     "name": "stdout",
     "output_type": "stream",
     "text": [
      "Categorical columns: ['Sex', 'Ticket', 'Cabin', 'Embarked']\n",
      "Numerical columns: ['Pclass', 'Age', 'FamilySize']\n"
     ]
    },
    {
     "name": "stderr",
     "output_type": "stream",
     "text": [
      "/opt/conda/lib/python3.10/site-packages/sklearn/preprocessing/_encoders.py:868: FutureWarning: `sparse` was renamed to `sparse_output` in version 1.2 and will be removed in 1.4. `sparse_output` is ignored unless you leave `sparse` to its default value.\n",
      "  warnings.warn(\n"
     ]
    }
   ],
   "source": [
    "import pandas as pd\n",
    "from sklearn.model_selection import train_test_split\n",
    "from sklearn.preprocessing import StandardScaler, OneHotEncoder\n",
    "from sklearn.impute import SimpleImputer\n",
    "from sklearn.pipeline import make_pipeline\n",
    "from sklearn.compose import make_column_transformer\n",
    "import numpy as np\n",
    "\n",
    "# Load data\n",
    "X_trainda = pd.read_csv('/kaggle/input/titanic/train.csv')\n",
    "X_test = pd.read_csv('/kaggle/input/titanic/test.csv')\n",
    "\n",
    "y = X_trainda.pop('Survived')\n",
    "\n",
    "# Function to distinguish categorical and numerical data\n",
    "def distinguish_data_types(df):\n",
    "    categorical_columns = df.select_dtypes(include=['object', 'category']).columns.tolist()\n",
    "    numerical_columns = df.select_dtypes(include=['number']).columns.tolist()\n",
    "    return categorical_columns, numerical_columns\n",
    "# Function to calculate family size\n",
    "def calculate_family_size(df):\n",
    "    return df['SibSp'] + df['Parch'] + 1\n",
    "X_trainda['FamilySize'] = calculate_family_size(X_trainda)\n",
    "X_test['FamilySize'] = calculate_family_size(X_test)\n",
    "features_cat, features_num = distinguish_data_types(X_trainda)\n",
    "features_cat.remove('Name')\n",
    "X_trainda = X_trainda.drop(columns=['Name'])\n",
    "features_num.remove('PassengerId')\n",
    "X_trainda = X_trainda.drop(columns=['PassengerId'])\n",
    "features_num.remove('Fare')\n",
    "X_trainda = X_trainda.drop(columns=['Fare'])\n",
    "features_num.remove('SibSp')\n",
    "X_trainda = X_trainda.drop(columns=['SibSp'])\n",
    "features_num.remove('Parch')\n",
    "X_trainda = X_trainda.drop(columns=['Parch'])\n",
    "\n",
    "print(\"Categorical columns:\", features_cat)\n",
    "print(\"Numerical columns:\", features_num )\n",
    "# Preprocessing pipelines\n",
    "transformer_num = make_pipeline(\n",
    "    SimpleImputer(strategy=\"constant\", fill_value=0),  # Fill missing values with 0\n",
    "    StandardScaler(),\n",
    ")\n",
    "\n",
    "transformer_cat = make_pipeline(\n",
    "    SimpleImputer(strategy=\"constant\", fill_value=\"NA\"),\n",
    "    OneHotEncoder(handle_unknown='ignore', sparse=False),  # Ensure dense output\n",
    ")\n",
    "\n",
    "preprocessor = make_column_transformer(\n",
    "    (transformer_num, features_num),\n",
    "    (transformer_cat, features_cat),\n",
    ")\n",
    "\n",
    "# Stratified split of the data\n",
    "X_train, X_valid, y_train, y_valid = train_test_split(\n",
    "    X_trainda, y, stratify=y, train_size=0.75\n",
    ")\n",
    "\n",
    "# Transform the data\n",
    "X_train = preprocessor.fit_transform(X_train)\n",
    "X_valid = preprocessor.transform(X_valid)\n",
    "\n",
    "# Convert to float32 if not already\n",
    "X_train = X_train.astype('float32')\n",
    "X_valid = X_valid.astype('float32')\n",
    "\n",
    "input_shape = [X_train.shape[1]]\n"
   ]
  },
  {
   "cell_type": "code",
   "execution_count": 3,
   "id": "5bc969c8",
   "metadata": {
    "execution": {
     "iopub.execute_input": "2024-07-25T08:13:39.394725Z",
     "iopub.status.busy": "2024-07-25T08:13:39.394339Z",
     "iopub.status.idle": "2024-07-25T08:13:54.738980Z",
     "shell.execute_reply": "2024-07-25T08:13:54.737868Z"
    },
    "papermill": {
     "duration": 15.35291,
     "end_time": "2024-07-25T08:13:54.741786",
     "exception": false,
     "start_time": "2024-07-25T08:13:39.388876",
     "status": "completed"
    },
    "tags": []
   },
   "outputs": [
    {
     "name": "stderr",
     "output_type": "stream",
     "text": [
      "2024-07-25 08:13:41.901457: E external/local_xla/xla/stream_executor/cuda/cuda_dnn.cc:9261] Unable to register cuDNN factory: Attempting to register factory for plugin cuDNN when one has already been registered\n",
      "2024-07-25 08:13:41.901669: E external/local_xla/xla/stream_executor/cuda/cuda_fft.cc:607] Unable to register cuFFT factory: Attempting to register factory for plugin cuFFT when one has already been registered\n",
      "2024-07-25 08:13:42.097465: E external/local_xla/xla/stream_executor/cuda/cuda_blas.cc:1515] Unable to register cuBLAS factory: Attempting to register factory for plugin cuBLAS when one has already been registered\n",
      "/opt/conda/lib/python3.10/site-packages/keras/src/layers/normalization/batch_normalization.py:143: UserWarning: Do not pass an `input_shape`/`input_dim` argument to a layer. When using Sequential models, prefer using an `Input(shape)` object as the first layer in the model instead.\n",
      "  super().__init__(**kwargs)\n"
     ]
    }
   ],
   "source": [
    "from tensorflow import keras\n",
    "from tensorflow.keras import layers\n",
    "from keras.regularizers import l2\n",
    "\n",
    "model = keras.Sequential([\n",
    "    layers.BatchNormalization(input_shape=input_shape,),  # BatchNormalization layer with input shape\n",
    "    layers.Dense(256, activation='relu',kernel_regularizer=l2(0.001)),               # First Dense layer\n",
    "    layers.BatchNormalization(),                        # BatchNormalization after first Dense layer\n",
    "    layers.Dropout(0.3),                                # Dropout after first Dense layer\n",
    "    layers.Dense(256, activation='relu',kernel_regularizer=l2(0.001)),               # Second Dense layer\n",
    "    layers.BatchNormalization(),                        # BatchNormalization after second Dense layer\n",
    "    layers.Dropout(0.3),                                # Dropout after second Dense layer\n",
    "    layers.Dense(1, activation='sigmoid')               # Output layer with sigmoid activation for binary classification\n",
    "])"
   ]
  },
  {
   "cell_type": "code",
   "execution_count": 4,
   "id": "3f12e723",
   "metadata": {
    "execution": {
     "iopub.execute_input": "2024-07-25T08:13:54.751843Z",
     "iopub.status.busy": "2024-07-25T08:13:54.751155Z",
     "iopub.status.idle": "2024-07-25T08:13:54.768064Z",
     "shell.execute_reply": "2024-07-25T08:13:54.766824Z"
    },
    "papermill": {
     "duration": 0.02499,
     "end_time": "2024-07-25T08:13:54.770851",
     "exception": false,
     "start_time": "2024-07-25T08:13:54.745861",
     "status": "completed"
    },
    "tags": []
   },
   "outputs": [],
   "source": [
    "model.compile(\n",
    "    optimizer='adam',\n",
    "    loss='binary_crossentropy',\n",
    "    metrics=['binary_accuracy']\n",
    ")"
   ]
  },
  {
   "cell_type": "code",
   "execution_count": 5,
   "id": "a83cbc84",
   "metadata": {
    "execution": {
     "iopub.execute_input": "2024-07-25T08:13:54.780586Z",
     "iopub.status.busy": "2024-07-25T08:13:54.780181Z",
     "iopub.status.idle": "2024-07-25T08:14:07.161689Z",
     "shell.execute_reply": "2024-07-25T08:14:07.160511Z"
    },
    "papermill": {
     "duration": 12.389454,
     "end_time": "2024-07-25T08:14:07.164341",
     "exception": false,
     "start_time": "2024-07-25T08:13:54.774887",
     "status": "completed"
    },
    "tags": []
   },
   "outputs": [
    {
     "name": "stdout",
     "output_type": "stream",
     "text": [
      "Epoch 1/200\n",
      "\u001b[1m2/2\u001b[0m \u001b[32m━━━━━━━━━━━━━━━━━━━━\u001b[0m\u001b[37m\u001b[0m \u001b[1m3s\u001b[0m 322ms/step - binary_accuracy: 0.4974 - loss: 1.6152 - val_binary_accuracy: 0.6368 - val_loss: 1.2901\n",
      "Epoch 2/200\n",
      "\u001b[1m2/2\u001b[0m \u001b[32m━━━━━━━━━━━━━━━━━━━━\u001b[0m\u001b[37m\u001b[0m \u001b[1m0s\u001b[0m 44ms/step - binary_accuracy: 0.6209 - loss: 1.3079 - val_binary_accuracy: 0.6502 - val_loss: 1.2662\n",
      "Epoch 3/200\n",
      "\u001b[1m2/2\u001b[0m \u001b[32m━━━━━━━━━━━━━━━━━━━━\u001b[0m\u001b[37m\u001b[0m \u001b[1m0s\u001b[0m 45ms/step - binary_accuracy: 0.7038 - loss: 1.1803 - val_binary_accuracy: 0.6637 - val_loss: 1.2434\n",
      "Epoch 4/200\n",
      "\u001b[1m2/2\u001b[0m \u001b[32m━━━━━━━━━━━━━━━━━━━━\u001b[0m\u001b[37m\u001b[0m \u001b[1m0s\u001b[0m 44ms/step - binary_accuracy: 0.7841 - loss: 1.0491 - val_binary_accuracy: 0.6637 - val_loss: 1.2215\n",
      "Epoch 5/200\n",
      "\u001b[1m2/2\u001b[0m \u001b[32m━━━━━━━━━━━━━━━━━━━━\u001b[0m\u001b[37m\u001b[0m \u001b[1m0s\u001b[0m 43ms/step - binary_accuracy: 0.8147 - loss: 0.9905 - val_binary_accuracy: 0.6637 - val_loss: 1.2017\n",
      "Epoch 6/200\n",
      "\u001b[1m2/2\u001b[0m \u001b[32m━━━━━━━━━━━━━━━━━━━━\u001b[0m\u001b[37m\u001b[0m \u001b[1m0s\u001b[0m 44ms/step - binary_accuracy: 0.8323 - loss: 0.9215 - val_binary_accuracy: 0.6592 - val_loss: 1.1842\n",
      "Epoch 7/200\n",
      "\u001b[1m2/2\u001b[0m \u001b[32m━━━━━━━━━━━━━━━━━━━━\u001b[0m\u001b[37m\u001b[0m \u001b[1m0s\u001b[0m 43ms/step - binary_accuracy: 0.8735 - loss: 0.8537 - val_binary_accuracy: 0.6502 - val_loss: 1.1682\n",
      "Epoch 8/200\n",
      "\u001b[1m2/2\u001b[0m \u001b[32m━━━━━━━━━━━━━━━━━━━━\u001b[0m\u001b[37m\u001b[0m \u001b[1m0s\u001b[0m 46ms/step - binary_accuracy: 0.9068 - loss: 0.8112 - val_binary_accuracy: 0.6502 - val_loss: 1.1537\n",
      "Epoch 9/200\n",
      "\u001b[1m2/2\u001b[0m \u001b[32m━━━━━━━━━━━━━━━━━━━━\u001b[0m\u001b[37m\u001b[0m \u001b[1m0s\u001b[0m 45ms/step - binary_accuracy: 0.9326 - loss: 0.7342 - val_binary_accuracy: 0.6502 - val_loss: 1.1403\n",
      "Epoch 10/200\n",
      "\u001b[1m2/2\u001b[0m \u001b[32m━━━━━━━━━━━━━━━━━━━━\u001b[0m\u001b[37m\u001b[0m \u001b[1m0s\u001b[0m 48ms/step - binary_accuracy: 0.9313 - loss: 0.7189 - val_binary_accuracy: 0.6502 - val_loss: 1.1283\n",
      "Epoch 11/200\n",
      "\u001b[1m2/2\u001b[0m \u001b[32m━━━━━━━━━━━━━━━━━━━━\u001b[0m\u001b[37m\u001b[0m \u001b[1m0s\u001b[0m 43ms/step - binary_accuracy: 0.9531 - loss: 0.6844 - val_binary_accuracy: 0.6457 - val_loss: 1.1171\n",
      "Epoch 12/200\n",
      "\u001b[1m2/2\u001b[0m \u001b[32m━━━━━━━━━━━━━━━━━━━━\u001b[0m\u001b[37m\u001b[0m \u001b[1m0s\u001b[0m 43ms/step - binary_accuracy: 0.9548 - loss: 0.6587 - val_binary_accuracy: 0.6413 - val_loss: 1.1066\n",
      "Epoch 13/200\n",
      "\u001b[1m2/2\u001b[0m \u001b[32m━━━━━━━━━━━━━━━━━━━━\u001b[0m\u001b[37m\u001b[0m \u001b[1m0s\u001b[0m 43ms/step - binary_accuracy: 0.9647 - loss: 0.6219 - val_binary_accuracy: 0.6413 - val_loss: 1.0968\n",
      "Epoch 14/200\n",
      "\u001b[1m2/2\u001b[0m \u001b[32m━━━━━━━━━━━━━━━━━━━━\u001b[0m\u001b[37m\u001b[0m \u001b[1m0s\u001b[0m 44ms/step - binary_accuracy: 0.9640 - loss: 0.6147 - val_binary_accuracy: 0.6413 - val_loss: 1.0875\n",
      "Epoch 15/200\n",
      "\u001b[1m2/2\u001b[0m \u001b[32m━━━━━━━━━━━━━━━━━━━━\u001b[0m\u001b[37m\u001b[0m \u001b[1m0s\u001b[0m 43ms/step - binary_accuracy: 0.9623 - loss: 0.6049 - val_binary_accuracy: 0.6323 - val_loss: 1.0788\n",
      "Epoch 16/200\n",
      "\u001b[1m2/2\u001b[0m \u001b[32m━━━━━━━━━━━━━━━━━━━━\u001b[0m\u001b[37m\u001b[0m \u001b[1m0s\u001b[0m 43ms/step - binary_accuracy: 0.9772 - loss: 0.5717 - val_binary_accuracy: 0.6233 - val_loss: 1.0709\n",
      "Epoch 17/200\n",
      "\u001b[1m2/2\u001b[0m \u001b[32m━━━━━━━━━━━━━━━━━━━━\u001b[0m\u001b[37m\u001b[0m \u001b[1m0s\u001b[0m 43ms/step - binary_accuracy: 0.9812 - loss: 0.5625 - val_binary_accuracy: 0.6233 - val_loss: 1.0629\n",
      "Epoch 18/200\n",
      "\u001b[1m2/2\u001b[0m \u001b[32m━━━━━━━━━━━━━━━━━━━━\u001b[0m\u001b[37m\u001b[0m \u001b[1m0s\u001b[0m 44ms/step - binary_accuracy: 0.9746 - loss: 0.5644 - val_binary_accuracy: 0.6233 - val_loss: 1.0549\n",
      "Epoch 19/200\n",
      "\u001b[1m2/2\u001b[0m \u001b[32m━━━━━━━━━━━━━━━━━━━━\u001b[0m\u001b[37m\u001b[0m \u001b[1m0s\u001b[0m 43ms/step - binary_accuracy: 0.9776 - loss: 0.5467 - val_binary_accuracy: 0.6233 - val_loss: 1.0472\n",
      "Epoch 20/200\n",
      "\u001b[1m2/2\u001b[0m \u001b[32m━━━━━━━━━━━━━━━━━━━━\u001b[0m\u001b[37m\u001b[0m \u001b[1m0s\u001b[0m 45ms/step - binary_accuracy: 0.9792 - loss: 0.5234 - val_binary_accuracy: 0.6233 - val_loss: 1.0397\n",
      "Epoch 21/200\n",
      "\u001b[1m2/2\u001b[0m \u001b[32m━━━━━━━━━━━━━━━━━━━━\u001b[0m\u001b[37m\u001b[0m \u001b[1m0s\u001b[0m 43ms/step - binary_accuracy: 0.9736 - loss: 0.5280 - val_binary_accuracy: 0.6278 - val_loss: 1.0326\n",
      "Epoch 22/200\n",
      "\u001b[1m2/2\u001b[0m \u001b[32m━━━━━━━━━━━━━━━━━━━━\u001b[0m\u001b[37m\u001b[0m \u001b[1m0s\u001b[0m 43ms/step - binary_accuracy: 0.9799 - loss: 0.5090 - val_binary_accuracy: 0.6323 - val_loss: 1.0269\n",
      "Epoch 23/200\n",
      "\u001b[1m2/2\u001b[0m \u001b[32m━━━━━━━━━━━━━━━━━━━━\u001b[0m\u001b[37m\u001b[0m \u001b[1m0s\u001b[0m 44ms/step - binary_accuracy: 0.9819 - loss: 0.4904 - val_binary_accuracy: 0.6368 - val_loss: 1.0209\n",
      "Epoch 24/200\n",
      "\u001b[1m2/2\u001b[0m \u001b[32m━━━━━━━━━━━━━━━━━━━━\u001b[0m\u001b[37m\u001b[0m \u001b[1m0s\u001b[0m 43ms/step - binary_accuracy: 0.9848 - loss: 0.4874 - val_binary_accuracy: 0.6413 - val_loss: 1.0151\n",
      "Epoch 25/200\n",
      "\u001b[1m2/2\u001b[0m \u001b[32m━━━━━━━━━━━━━━━━━━━━\u001b[0m\u001b[37m\u001b[0m \u001b[1m0s\u001b[0m 44ms/step - binary_accuracy: 0.9805 - loss: 0.4896 - val_binary_accuracy: 0.6413 - val_loss: 1.0085\n",
      "Epoch 26/200\n",
      "\u001b[1m2/2\u001b[0m \u001b[32m━━━━━━━━━━━━━━━━━━━━\u001b[0m\u001b[37m\u001b[0m \u001b[1m0s\u001b[0m 43ms/step - binary_accuracy: 0.9845 - loss: 0.4742 - val_binary_accuracy: 0.6457 - val_loss: 1.0009\n",
      "Epoch 27/200\n",
      "\u001b[1m2/2\u001b[0m \u001b[32m━━━━━━━━━━━━━━━━━━━━\u001b[0m\u001b[37m\u001b[0m \u001b[1m0s\u001b[0m 45ms/step - binary_accuracy: 0.9838 - loss: 0.4768 - val_binary_accuracy: 0.6502 - val_loss: 0.9933\n",
      "Epoch 28/200\n",
      "\u001b[1m2/2\u001b[0m \u001b[32m━━━━━━━━━━━━━━━━━━━━\u001b[0m\u001b[37m\u001b[0m \u001b[1m0s\u001b[0m 45ms/step - binary_accuracy: 0.9851 - loss: 0.4591 - val_binary_accuracy: 0.6502 - val_loss: 0.9860\n",
      "Epoch 29/200\n",
      "\u001b[1m2/2\u001b[0m \u001b[32m━━━━━━━━━━━━━━━━━━━━\u001b[0m\u001b[37m\u001b[0m \u001b[1m0s\u001b[0m 44ms/step - binary_accuracy: 0.9832 - loss: 0.4560 - val_binary_accuracy: 0.6502 - val_loss: 0.9798\n",
      "Epoch 30/200\n",
      "\u001b[1m2/2\u001b[0m \u001b[32m━━━━━━━━━━━━━━━━━━━━\u001b[0m\u001b[37m\u001b[0m \u001b[1m0s\u001b[0m 44ms/step - binary_accuracy: 0.9789 - loss: 0.4494 - val_binary_accuracy: 0.6592 - val_loss: 0.9725\n",
      "Epoch 31/200\n",
      "\u001b[1m2/2\u001b[0m \u001b[32m━━━━━━━━━━━━━━━━━━━━\u001b[0m\u001b[37m\u001b[0m \u001b[1m0s\u001b[0m 43ms/step - binary_accuracy: 0.9852 - loss: 0.4517 - val_binary_accuracy: 0.6637 - val_loss: 0.9655\n",
      "Epoch 32/200\n",
      "\u001b[1m2/2\u001b[0m \u001b[32m━━━━━━━━━━━━━━━━━━━━\u001b[0m\u001b[37m\u001b[0m \u001b[1m0s\u001b[0m 44ms/step - binary_accuracy: 0.9776 - loss: 0.4528 - val_binary_accuracy: 0.6637 - val_loss: 0.9579\n",
      "Epoch 33/200\n",
      "\u001b[1m2/2\u001b[0m \u001b[32m━━━━━━━━━━━━━━━━━━━━\u001b[0m\u001b[37m\u001b[0m \u001b[1m0s\u001b[0m 43ms/step - binary_accuracy: 0.9855 - loss: 0.4382 - val_binary_accuracy: 0.6682 - val_loss: 0.9513\n",
      "Epoch 34/200\n",
      "\u001b[1m2/2\u001b[0m \u001b[32m━━━━━━━━━━━━━━━━━━━━\u001b[0m\u001b[37m\u001b[0m \u001b[1m0s\u001b[0m 49ms/step - binary_accuracy: 0.9825 - loss: 0.4323 - val_binary_accuracy: 0.6771 - val_loss: 0.9451\n",
      "Epoch 35/200\n",
      "\u001b[1m2/2\u001b[0m \u001b[32m━━━━━━━━━━━━━━━━━━━━\u001b[0m\u001b[37m\u001b[0m \u001b[1m0s\u001b[0m 44ms/step - binary_accuracy: 0.9852 - loss: 0.4287 - val_binary_accuracy: 0.6771 - val_loss: 0.9398\n",
      "Epoch 36/200\n",
      "\u001b[1m2/2\u001b[0m \u001b[32m━━━━━━━━━━━━━━━━━━━━\u001b[0m\u001b[37m\u001b[0m \u001b[1m0s\u001b[0m 42ms/step - binary_accuracy: 0.9868 - loss: 0.4167 - val_binary_accuracy: 0.6771 - val_loss: 0.9343\n",
      "Epoch 37/200\n",
      "\u001b[1m2/2\u001b[0m \u001b[32m━━━━━━━━━━━━━━━━━━━━\u001b[0m\u001b[37m\u001b[0m \u001b[1m0s\u001b[0m 44ms/step - binary_accuracy: 0.9891 - loss: 0.4167 - val_binary_accuracy: 0.6771 - val_loss: 0.9295\n",
      "Epoch 38/200\n",
      "\u001b[1m2/2\u001b[0m \u001b[32m━━━━━━━━━━━━━━━━━━━━\u001b[0m\u001b[37m\u001b[0m \u001b[1m0s\u001b[0m 45ms/step - binary_accuracy: 0.9805 - loss: 0.4192 - val_binary_accuracy: 0.6816 - val_loss: 0.9249\n",
      "Epoch 39/200\n",
      "\u001b[1m2/2\u001b[0m \u001b[32m━━━━━━━━━━━━━━━━━━━━\u001b[0m\u001b[37m\u001b[0m \u001b[1m0s\u001b[0m 43ms/step - binary_accuracy: 0.9871 - loss: 0.4041 - val_binary_accuracy: 0.6861 - val_loss: 0.9202\n",
      "Epoch 40/200\n",
      "\u001b[1m2/2\u001b[0m \u001b[32m━━━━━━━━━━━━━━━━━━━━\u001b[0m\u001b[37m\u001b[0m \u001b[1m0s\u001b[0m 43ms/step - binary_accuracy: 0.9845 - loss: 0.4011 - val_binary_accuracy: 0.6861 - val_loss: 0.9150\n",
      "Epoch 41/200\n",
      "\u001b[1m2/2\u001b[0m \u001b[32m━━━━━━━━━━━━━━━━━━━━\u001b[0m\u001b[37m\u001b[0m \u001b[1m0s\u001b[0m 46ms/step - binary_accuracy: 0.9904 - loss: 0.3951 - val_binary_accuracy: 0.6906 - val_loss: 0.9075\n",
      "Epoch 42/200\n",
      "\u001b[1m2/2\u001b[0m \u001b[32m━━━━━━━━━━━━━━━━━━━━\u001b[0m\u001b[37m\u001b[0m \u001b[1m0s\u001b[0m 47ms/step - binary_accuracy: 0.9809 - loss: 0.4017 - val_binary_accuracy: 0.7220 - val_loss: 0.9007\n",
      "Epoch 43/200\n",
      "\u001b[1m2/2\u001b[0m \u001b[32m━━━━━━━━━━━━━━━━━━━━\u001b[0m\u001b[37m\u001b[0m \u001b[1m0s\u001b[0m 47ms/step - binary_accuracy: 0.9898 - loss: 0.3912 - val_binary_accuracy: 0.7399 - val_loss: 0.8917\n",
      "Epoch 44/200\n",
      "\u001b[1m2/2\u001b[0m \u001b[32m━━━━━━━━━━━━━━━━━━━━\u001b[0m\u001b[37m\u001b[0m \u001b[1m0s\u001b[0m 60ms/step - binary_accuracy: 0.9904 - loss: 0.3856 - val_binary_accuracy: 0.7444 - val_loss: 0.8847\n",
      "Epoch 45/200\n",
      "\u001b[1m2/2\u001b[0m \u001b[32m━━━━━━━━━━━━━━━━━━━━\u001b[0m\u001b[37m\u001b[0m \u001b[1m0s\u001b[0m 69ms/step - binary_accuracy: 0.9904 - loss: 0.3769 - val_binary_accuracy: 0.7444 - val_loss: 0.8805\n",
      "Epoch 46/200\n",
      "\u001b[1m2/2\u001b[0m \u001b[32m━━━━━━━━━━━━━━━━━━━━\u001b[0m\u001b[37m\u001b[0m \u001b[1m0s\u001b[0m 46ms/step - binary_accuracy: 0.9885 - loss: 0.3817 - val_binary_accuracy: 0.7489 - val_loss: 0.8773\n",
      "Epoch 47/200\n",
      "\u001b[1m2/2\u001b[0m \u001b[32m━━━━━━━━━━━━━━━━━━━━\u001b[0m\u001b[37m\u001b[0m \u001b[1m0s\u001b[0m 44ms/step - binary_accuracy: 0.9914 - loss: 0.3718 - val_binary_accuracy: 0.7489 - val_loss: 0.8757\n",
      "Epoch 48/200\n",
      "\u001b[1m2/2\u001b[0m \u001b[32m━━━━━━━━━━━━━━━━━━━━\u001b[0m\u001b[37m\u001b[0m \u001b[1m0s\u001b[0m 47ms/step - binary_accuracy: 0.9878 - loss: 0.3712 - val_binary_accuracy: 0.7444 - val_loss: 0.8742\n",
      "Epoch 49/200\n",
      "\u001b[1m2/2\u001b[0m \u001b[32m━━━━━━━━━━━━━━━━━━━━\u001b[0m\u001b[37m\u001b[0m \u001b[1m0s\u001b[0m 60ms/step - binary_accuracy: 0.9842 - loss: 0.3801 - val_binary_accuracy: 0.7399 - val_loss: 0.8724\n",
      "Epoch 50/200\n",
      "\u001b[1m2/2\u001b[0m \u001b[32m━━━━━━━━━━━━━━━━━━━━\u001b[0m\u001b[37m\u001b[0m \u001b[1m0s\u001b[0m 43ms/step - binary_accuracy: 0.9960 - loss: 0.3587 - val_binary_accuracy: 0.7354 - val_loss: 0.8699\n",
      "Epoch 51/200\n",
      "\u001b[1m2/2\u001b[0m \u001b[32m━━━━━━━━━━━━━━━━━━━━\u001b[0m\u001b[37m\u001b[0m \u001b[1m0s\u001b[0m 44ms/step - binary_accuracy: 0.9908 - loss: 0.3596 - val_binary_accuracy: 0.7309 - val_loss: 0.8677\n",
      "Epoch 52/200\n",
      "\u001b[1m2/2\u001b[0m \u001b[32m━━━━━━━━━━━━━━━━━━━━\u001b[0m\u001b[37m\u001b[0m \u001b[1m0s\u001b[0m 41ms/step - binary_accuracy: 0.9832 - loss: 0.3658 - val_binary_accuracy: 0.7309 - val_loss: 0.8684\n",
      "Epoch 53/200\n",
      "\u001b[1m2/2\u001b[0m \u001b[32m━━━━━━━━━━━━━━━━━━━━\u001b[0m\u001b[37m\u001b[0m \u001b[1m0s\u001b[0m 42ms/step - binary_accuracy: 0.9858 - loss: 0.3570 - val_binary_accuracy: 0.7309 - val_loss: 0.8686\n",
      "Epoch 54/200\n",
      "\u001b[1m2/2\u001b[0m \u001b[32m━━━━━━━━━━━━━━━━━━━━\u001b[0m\u001b[37m\u001b[0m \u001b[1m0s\u001b[0m 42ms/step - binary_accuracy: 0.9858 - loss: 0.3578 - val_binary_accuracy: 0.7309 - val_loss: 0.8683\n",
      "Epoch 55/200\n",
      "\u001b[1m2/2\u001b[0m \u001b[32m━━━━━━━━━━━━━━━━━━━━\u001b[0m\u001b[37m\u001b[0m \u001b[1m0s\u001b[0m 45ms/step - binary_accuracy: 0.9838 - loss: 0.3480 - val_binary_accuracy: 0.7309 - val_loss: 0.8641\n",
      "Epoch 56/200\n",
      "\u001b[1m2/2\u001b[0m \u001b[32m━━━━━━━━━━━━━━━━━━━━\u001b[0m\u001b[37m\u001b[0m \u001b[1m0s\u001b[0m 46ms/step - binary_accuracy: 0.9898 - loss: 0.3434 - val_binary_accuracy: 0.7309 - val_loss: 0.8626\n",
      "Epoch 57/200\n",
      "\u001b[1m2/2\u001b[0m \u001b[32m━━━━━━━━━━━━━━━━━━━━\u001b[0m\u001b[37m\u001b[0m \u001b[1m0s\u001b[0m 45ms/step - binary_accuracy: 0.9918 - loss: 0.3408 - val_binary_accuracy: 0.7309 - val_loss: 0.8615\n",
      "Epoch 58/200\n",
      "\u001b[1m2/2\u001b[0m \u001b[32m━━━━━━━━━━━━━━━━━━━━\u001b[0m\u001b[37m\u001b[0m \u001b[1m0s\u001b[0m 43ms/step - binary_accuracy: 0.9852 - loss: 0.3404 - val_binary_accuracy: 0.7309 - val_loss: 0.8614\n",
      "Epoch 59/200\n",
      "\u001b[1m2/2\u001b[0m \u001b[32m━━━━━━━━━━━━━━━━━━━━\u001b[0m\u001b[37m\u001b[0m \u001b[1m0s\u001b[0m 44ms/step - binary_accuracy: 0.9842 - loss: 0.3421 - val_binary_accuracy: 0.7309 - val_loss: 0.8586\n",
      "Epoch 60/200\n",
      "\u001b[1m2/2\u001b[0m \u001b[32m━━━━━━━━━━━━━━━━━━━━\u001b[0m\u001b[37m\u001b[0m \u001b[1m0s\u001b[0m 44ms/step - binary_accuracy: 0.9868 - loss: 0.3316 - val_binary_accuracy: 0.7309 - val_loss: 0.8568\n",
      "Epoch 61/200\n",
      "\u001b[1m2/2\u001b[0m \u001b[32m━━━━━━━━━━━━━━━━━━━━\u001b[0m\u001b[37m\u001b[0m \u001b[1m0s\u001b[0m 46ms/step - binary_accuracy: 0.9858 - loss: 0.3315 - val_binary_accuracy: 0.7265 - val_loss: 0.8530\n",
      "Epoch 62/200\n",
      "\u001b[1m2/2\u001b[0m \u001b[32m━━━━━━━━━━━━━━━━━━━━\u001b[0m\u001b[37m\u001b[0m \u001b[1m0s\u001b[0m 44ms/step - binary_accuracy: 0.9875 - loss: 0.3244 - val_binary_accuracy: 0.7354 - val_loss: 0.8500\n",
      "Epoch 63/200\n",
      "\u001b[1m2/2\u001b[0m \u001b[32m━━━━━━━━━━━━━━━━━━━━\u001b[0m\u001b[37m\u001b[0m \u001b[1m0s\u001b[0m 43ms/step - binary_accuracy: 0.9901 - loss: 0.3258 - val_binary_accuracy: 0.7354 - val_loss: 0.8465\n",
      "Epoch 64/200\n",
      "\u001b[1m2/2\u001b[0m \u001b[32m━━━━━━━━━━━━━━━━━━━━\u001b[0m\u001b[37m\u001b[0m \u001b[1m0s\u001b[0m 47ms/step - binary_accuracy: 0.9908 - loss: 0.3169 - val_binary_accuracy: 0.7354 - val_loss: 0.8431\n",
      "Epoch 65/200\n",
      "\u001b[1m2/2\u001b[0m \u001b[32m━━━━━━━━━━━━━━━━━━━━\u001b[0m\u001b[37m\u001b[0m \u001b[1m0s\u001b[0m 45ms/step - binary_accuracy: 0.9904 - loss: 0.3186 - val_binary_accuracy: 0.7399 - val_loss: 0.8410\n",
      "Epoch 66/200\n",
      "\u001b[1m2/2\u001b[0m \u001b[32m━━━━━━━━━━━━━━━━━━━━\u001b[0m\u001b[37m\u001b[0m \u001b[1m0s\u001b[0m 44ms/step - binary_accuracy: 0.9888 - loss: 0.3224 - val_binary_accuracy: 0.7399 - val_loss: 0.8377\n",
      "Epoch 67/200\n",
      "\u001b[1m2/2\u001b[0m \u001b[32m━━━━━━━━━━━━━━━━━━━━\u001b[0m\u001b[37m\u001b[0m \u001b[1m0s\u001b[0m 44ms/step - binary_accuracy: 0.9908 - loss: 0.3097 - val_binary_accuracy: 0.7444 - val_loss: 0.8341\n",
      "Epoch 68/200\n",
      "\u001b[1m2/2\u001b[0m \u001b[32m━━━━━━━━━━━━━━━━━━━━\u001b[0m\u001b[37m\u001b[0m \u001b[1m0s\u001b[0m 43ms/step - binary_accuracy: 0.9931 - loss: 0.3090 - val_binary_accuracy: 0.7444 - val_loss: 0.8313\n",
      "Epoch 69/200\n",
      "\u001b[1m2/2\u001b[0m \u001b[32m━━━━━━━━━━━━━━━━━━━━\u001b[0m\u001b[37m\u001b[0m \u001b[1m0s\u001b[0m 44ms/step - binary_accuracy: 0.9885 - loss: 0.3147 - val_binary_accuracy: 0.7444 - val_loss: 0.8276\n",
      "Epoch 70/200\n",
      "\u001b[1m2/2\u001b[0m \u001b[32m━━━━━━━━━━━━━━━━━━━━\u001b[0m\u001b[37m\u001b[0m \u001b[1m0s\u001b[0m 43ms/step - binary_accuracy: 0.9908 - loss: 0.3014 - val_binary_accuracy: 0.7489 - val_loss: 0.8213\n",
      "Epoch 71/200\n",
      "\u001b[1m2/2\u001b[0m \u001b[32m━━━━━━━━━━━━━━━━━━━━\u001b[0m\u001b[37m\u001b[0m \u001b[1m0s\u001b[0m 42ms/step - binary_accuracy: 0.9832 - loss: 0.3157 - val_binary_accuracy: 0.7534 - val_loss: 0.8140\n",
      "Epoch 72/200\n",
      "\u001b[1m2/2\u001b[0m \u001b[32m━━━━━━━━━━━━━━━━━━━━\u001b[0m\u001b[37m\u001b[0m \u001b[1m0s\u001b[0m 43ms/step - binary_accuracy: 0.9898 - loss: 0.3045 - val_binary_accuracy: 0.7578 - val_loss: 0.8060\n",
      "Epoch 73/200\n",
      "\u001b[1m2/2\u001b[0m \u001b[32m━━━━━━━━━━━━━━━━━━━━\u001b[0m\u001b[37m\u001b[0m \u001b[1m0s\u001b[0m 43ms/step - binary_accuracy: 0.9858 - loss: 0.3136 - val_binary_accuracy: 0.7623 - val_loss: 0.7981\n",
      "Epoch 74/200\n",
      "\u001b[1m2/2\u001b[0m \u001b[32m━━━━━━━━━━━━━━━━━━━━\u001b[0m\u001b[37m\u001b[0m \u001b[1m0s\u001b[0m 44ms/step - binary_accuracy: 0.9934 - loss: 0.2927 - val_binary_accuracy: 0.7623 - val_loss: 0.7904\n",
      "Epoch 75/200\n",
      "\u001b[1m2/2\u001b[0m \u001b[32m━━━━━━━━━━━━━━━━━━━━\u001b[0m\u001b[37m\u001b[0m \u001b[1m0s\u001b[0m 44ms/step - binary_accuracy: 0.9865 - loss: 0.3011 - val_binary_accuracy: 0.7668 - val_loss: 0.7843\n",
      "Epoch 76/200\n",
      "\u001b[1m2/2\u001b[0m \u001b[32m━━━━━━━━━━━━━━━━━━━━\u001b[0m\u001b[37m\u001b[0m \u001b[1m0s\u001b[0m 43ms/step - binary_accuracy: 0.9855 - loss: 0.2989 - val_binary_accuracy: 0.7668 - val_loss: 0.7811\n",
      "Epoch 77/200\n",
      "\u001b[1m2/2\u001b[0m \u001b[32m━━━━━━━━━━━━━━━━━━━━\u001b[0m\u001b[37m\u001b[0m \u001b[1m0s\u001b[0m 43ms/step - binary_accuracy: 0.9898 - loss: 0.2937 - val_binary_accuracy: 0.7668 - val_loss: 0.7786\n",
      "Epoch 78/200\n",
      "\u001b[1m2/2\u001b[0m \u001b[32m━━━━━━━━━━━━━━━━━━━━\u001b[0m\u001b[37m\u001b[0m \u001b[1m0s\u001b[0m 43ms/step - binary_accuracy: 0.9865 - loss: 0.2915 - val_binary_accuracy: 0.7668 - val_loss: 0.7740\n",
      "Epoch 79/200\n",
      "\u001b[1m2/2\u001b[0m \u001b[32m━━━━━━━━━━━━━━━━━━━━\u001b[0m\u001b[37m\u001b[0m \u001b[1m0s\u001b[0m 43ms/step - binary_accuracy: 0.9904 - loss: 0.2887 - val_binary_accuracy: 0.7668 - val_loss: 0.7680\n",
      "Epoch 80/200\n",
      "\u001b[1m2/2\u001b[0m \u001b[32m━━━━━━━━━━━━━━━━━━━━\u001b[0m\u001b[37m\u001b[0m \u001b[1m0s\u001b[0m 43ms/step - binary_accuracy: 0.9918 - loss: 0.2809 - val_binary_accuracy: 0.7668 - val_loss: 0.7629\n",
      "Epoch 81/200\n",
      "\u001b[1m2/2\u001b[0m \u001b[32m━━━━━━━━━━━━━━━━━━━━\u001b[0m\u001b[37m\u001b[0m \u001b[1m0s\u001b[0m 43ms/step - binary_accuracy: 0.9957 - loss: 0.2788 - val_binary_accuracy: 0.7668 - val_loss: 0.7583\n",
      "Epoch 82/200\n",
      "\u001b[1m2/2\u001b[0m \u001b[32m━━━━━━━━━━━━━━━━━━━━\u001b[0m\u001b[37m\u001b[0m \u001b[1m0s\u001b[0m 44ms/step - binary_accuracy: 0.9947 - loss: 0.2796 - val_binary_accuracy: 0.7668 - val_loss: 0.7537\n",
      "Epoch 83/200\n",
      "\u001b[1m2/2\u001b[0m \u001b[32m━━━━━━━━━━━━━━━━━━━━\u001b[0m\u001b[37m\u001b[0m \u001b[1m0s\u001b[0m 45ms/step - binary_accuracy: 0.9931 - loss: 0.2769 - val_binary_accuracy: 0.7713 - val_loss: 0.7485\n",
      "Epoch 84/200\n",
      "\u001b[1m2/2\u001b[0m \u001b[32m━━━━━━━━━━━━━━━━━━━━\u001b[0m\u001b[37m\u001b[0m \u001b[1m0s\u001b[0m 44ms/step - binary_accuracy: 0.9914 - loss: 0.2747 - val_binary_accuracy: 0.7713 - val_loss: 0.7450\n",
      "Epoch 85/200\n",
      "\u001b[1m2/2\u001b[0m \u001b[32m━━━━━━━━━━━━━━━━━━━━\u001b[0m\u001b[37m\u001b[0m \u001b[1m0s\u001b[0m 43ms/step - binary_accuracy: 0.9951 - loss: 0.2712 - val_binary_accuracy: 0.7713 - val_loss: 0.7408\n",
      "Epoch 86/200\n",
      "\u001b[1m2/2\u001b[0m \u001b[32m━━━━━━━━━━━━━━━━━━━━\u001b[0m\u001b[37m\u001b[0m \u001b[1m0s\u001b[0m 43ms/step - binary_accuracy: 0.9941 - loss: 0.2731 - val_binary_accuracy: 0.7713 - val_loss: 0.7389\n",
      "Epoch 87/200\n",
      "\u001b[1m2/2\u001b[0m \u001b[32m━━━━━━━━━━━━━━━━━━━━\u001b[0m\u001b[37m\u001b[0m \u001b[1m0s\u001b[0m 43ms/step - binary_accuracy: 0.9901 - loss: 0.2706 - val_binary_accuracy: 0.7713 - val_loss: 0.7369\n",
      "Epoch 88/200\n",
      "\u001b[1m2/2\u001b[0m \u001b[32m━━━━━━━━━━━━━━━━━━━━\u001b[0m\u001b[37m\u001b[0m \u001b[1m0s\u001b[0m 42ms/step - binary_accuracy: 0.9931 - loss: 0.2649 - val_binary_accuracy: 0.7668 - val_loss: 0.7364\n",
      "Epoch 89/200\n",
      "\u001b[1m2/2\u001b[0m \u001b[32m━━━━━━━━━━━━━━━━━━━━\u001b[0m\u001b[37m\u001b[0m \u001b[1m0s\u001b[0m 41ms/step - binary_accuracy: 0.9921 - loss: 0.2666 - val_binary_accuracy: 0.7668 - val_loss: 0.7368\n",
      "Epoch 90/200\n",
      "\u001b[1m2/2\u001b[0m \u001b[32m━━━━━━━━━━━━━━━━━━━━\u001b[0m\u001b[37m\u001b[0m \u001b[1m0s\u001b[0m 40ms/step - binary_accuracy: 0.9941 - loss: 0.2630 - val_binary_accuracy: 0.7668 - val_loss: 0.7387\n",
      "Epoch 91/200\n",
      "\u001b[1m2/2\u001b[0m \u001b[32m━━━━━━━━━━━━━━━━━━━━\u001b[0m\u001b[37m\u001b[0m \u001b[1m0s\u001b[0m 41ms/step - binary_accuracy: 0.9898 - loss: 0.2639 - val_binary_accuracy: 0.7668 - val_loss: 0.7415\n",
      "Epoch 92/200\n",
      "\u001b[1m2/2\u001b[0m \u001b[32m━━━━━━━━━━━━━━━━━━━━\u001b[0m\u001b[37m\u001b[0m \u001b[1m0s\u001b[0m 41ms/step - binary_accuracy: 0.9918 - loss: 0.2567 - val_binary_accuracy: 0.7623 - val_loss: 0.7465\n"
     ]
    },
    {
     "data": {
      "text/plain": [
       "<Axes: title={'center': 'Accuracy'}>"
      ]
     },
     "execution_count": 5,
     "metadata": {},
     "output_type": "execute_result"
    },
    {
     "data": {
      "image/png": "[encoded data removed]",
      "text/plain": [
       "<Figure size 640x480 with 1 Axes>"
      ]
     },
     "metadata": {},
     "output_type": "display_data"
    },
    {
     "data": {
      "image/png": "[encoded data removed]",
      "text/plain": [
       "<Figure size 640x480 with 1 Axes>"
      ]
     },
     "metadata": {},
     "output_type": "display_data"
    }
   ],
   "source": [
    "early_stopping = keras.callbacks.EarlyStopping(\n",
    "    patience=5,\n",
    "    min_delta=0.001,\n",
    "    restore_best_weights=True,\n",
    ")\n",
    "history = model.fit(\n",
    "    X_train, y_train,\n",
    "    validation_data=(X_valid, y_valid),\n",
    "    batch_size=512,\n",
    "    epochs=200,\n",
    "    callbacks=[early_stopping],\n",
    ")\n",
    "\n",
    "history_df = pd.DataFrame(history.history)\n",
    "history_df.loc[:, ['loss', 'val_loss']].plot(title=\"Cross-entropy\")\n",
    "history_df.loc[:, ['binary_accuracy', 'val_binary_accuracy']].plot(title=\"Accuracy\")"
   ]
  },
  {
   "cell_type": "code",
   "execution_count": 6,
   "id": "afcdbd01",
   "metadata": {
    "execution": {
     "iopub.execute_input": "2024-07-25T08:14:07.228881Z",
     "iopub.status.busy": "2024-07-25T08:14:07.228399Z",
     "iopub.status.idle": "2024-07-25T08:14:07.572009Z",
     "shell.execute_reply": "2024-07-25T08:14:07.570719Z"
    },
    "papermill": {
     "duration": 0.379782,
     "end_time": "2024-07-25T08:14:07.575185",
     "exception": false,
     "start_time": "2024-07-25T08:14:07.195403",
     "status": "completed"
    },
    "tags": []
   },
   "outputs": [
    {
     "name": "stdout",
     "output_type": "stream",
     "text": [
      "\u001b[1m14/14\u001b[0m \u001b[32m━━━━━━━━━━━━━━━━━━━━\u001b[0m\u001b[37m\u001b[0m \u001b[1m0s\u001b[0m 9ms/step\n"
     ]
    }
   ],
   "source": [
    "import pandas as pd\n",
    "import numpy as np\n",
    "import tensorflow as tf\n",
    "\n",
    "# Load the test data\n",
    "test_df = pd.read_csv('/kaggle/input/titanic/test.csv')\n",
    "\n",
    "# Extract PassengerId for the submission\n",
    "passenger_ids = test_df['PassengerId']\n",
    "test_df['FamilySize'] = calculate_family_size(test_df)\n",
    "\n",
    "# Ensure the test set has the correct columns before transformation\n",
    "# The columns used in training need to be present in the test set.\n",
    "required_columns = ['Pclass', 'Age', 'FamilySize', 'Fare', 'Sex', 'Embarked']\n",
    "\n",
    "# Handle missing columns that might not be in the test set\n",
    "for col in required_columns:\n",
    "    if col not in test_df.columns:\n",
    "        # If a column is missing, you can add it with a default value\n",
    "        if col in ['Age', 'Fare']:\n",
    "            test_df[col] = np.nan  # You can choose a default value or keep NaN for imputation\n",
    "        else:\n",
    "            test_df[col] = 'missing'  # Placeholder for categorical missing values\n",
    "\n",
    "# Ensure the test set matches the training set's features\n",
    "# Use the same transformations as applied to the training data\n",
    "test_df_transformed = preprocessor.transform(test_df)  # Using the preprocessor from the training phase\n",
    "\n",
    "# Convert the test data to float32 as required by the model\n",
    "test_df_transformed = test_df_transformed.astype('float32')\n",
    "\n",
    "# Make predictions\n",
    "predictions = model.predict(test_df_transformed)\n",
    "\n",
    "# Convert predictions to class labels\n",
    "predicted_labels = (predictions > 0.5).astype(int).flatten()  # Convert probabilities to 0 or 1\n",
    "\n",
    "# Create a DataFrame with the submission data\n",
    "submission_df = pd.DataFrame({\n",
    "    'PassengerId': passenger_ids,  # Ensure these match the test set order\n",
    "    'Survived': predicted_labels\n",
    "})\n",
    "\n",
    "# Save the DataFrame to a CSV file\n",
    "submission_file = 'submission.csv'\n",
    "submission_df.to_csv(submission_file, index=False)"
   ]
  }
 ],
 "metadata": {
  "kaggle": {
   "accelerator": "none",
   "dataSources": [
    {
     "databundleVersionId": 26502,
     "sourceId": 3136,
     "sourceType": "competition"
    },
    {
     "datasetId": 5438082,
     "sourceId": 9023676,
     "sourceType": "datasetVersion"
    }
   ],
   "dockerImageVersionId": 30746,
   "isGpuEnabled": false,
   "isInternetEnabled": false,
   "language": "python",
   "sourceType": "notebook"
  },
  "kernelspec": {
   "display_name": "Python 3",
   "language": "python",
   "name": "python3"
  },
  "language_info": {
   "codemirror_mode": {
    "name": "ipython",
    "version": 3
   },
   "file_extension": ".py",
   "mimetype": "text/x-python",
   "name": "python",
   "nbconvert_exporter": "python",
   "pygments_lexer": "ipython3",
   "version": "3.10.13"
  },
  "papermill": {
   "default_parameters": {},
   "duration": 36.034563,
   "end_time": "2024-07-25T08:14:09.434474",
   "environment_variables": {},
   "exception": null,
   "input_path": "__notebook__.ipynb",
   "output_path": "__notebook__.ipynb",
   "parameters": {},
   "start_time": "2024-07-25T08:13:33.399911",
   "version": "2.5.0"
  }
 },
 "nbformat": 4,
 "nbformat_minor": 5
}
