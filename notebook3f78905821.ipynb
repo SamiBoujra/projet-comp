{
 "cells": [
  {
   "cell_type": "code",
   "execution_count": 1,
   "id": "c741f850",
   "metadata": {
    "_cell_guid": "b1076dfc-b9ad-4769-8c92-a6c4dae69d19",
    "_uuid": "8f2839f25d086af736a60e9eeb907d3b93b6e0e5",
    "execution": {
     "iopub.execute_input": "2024-07-25T08:25:06.693256Z",
     "iopub.status.busy": "2024-07-25T08:25:06.692845Z",
     "iopub.status.idle": "2024-07-25T08:25:07.535142Z",
     "shell.execute_reply": "2024-07-25T08:25:07.534126Z"
    },
    "papermill": {
     "duration": 0.849764,
     "end_time": "2024-07-25T08:25:07.537972",
     "exception": false,
     "start_time": "2024-07-25T08:25:06.688208",
     "status": "completed"
    },
    "tags": []
   },
   "outputs": [
    {
     "name": "stdout",
     "output_type": "stream",
     "text": [
      "/kaggle/input/gender-submission-csv/gender_submission.csv\n",
      "/kaggle/input/titanic/train.csv\n",
      "/kaggle/input/titanic/test.csv\n",
      "/kaggle/input/titanic/gender_submission.csv\n"
     ]
    }
   ],
   "source": [
    "# This Python 3 environment comes with many helpful analytics libraries installed\n",
    "# It is defined by the kaggle/python Docker image: https://github.com/kaggle/docker-python\n",
    "# For example, here's several helpful packages to load\n",
    "\n",
    "import numpy as np # linear algebra\n",
    "import pandas as pd # data processing, CSV file I/O (e.g. pd.read_csv)\n",
    "\n",
    "# Input data files are available in the read-only \"../input/\" directory\n",
    "# For example, running this (by clicking run or pressing Shift+Enter) will list all files under the input directory\n",
    "\n",
    "import os\n",
    "for dirname, _, filenames in os.walk('/kaggle/input'):\n",
    "    for filename in filenames:\n",
    "        print(os.path.join(dirname, filename))\n",
    "\n",
    "# You can write up to 20GB to the current directory (/kaggle/working/) that gets preserved as output when you create a version using \"Save & Run All\" \n",
    "# You can also write temporary files to /kaggle/temp/, but they won't be saved outside of the current session"
   ]
  },
  {
   "cell_type": "code",
   "execution_count": 2,
   "id": "b2a0c8d6",
   "metadata": {
    "execution": {
     "iopub.execute_input": "2024-07-25T08:25:07.546130Z",
     "iopub.status.busy": "2024-07-25T08:25:07.545578Z",
     "iopub.status.idle": "2024-07-25T08:25:09.091036Z",
     "shell.execute_reply": "2024-07-25T08:25:09.089789Z"
    },
    "papermill": {
     "duration": 1.55284,
     "end_time": "2024-07-25T08:25:09.093979",
     "exception": false,
     "start_time": "2024-07-25T08:25:07.541139",
     "status": "completed"
    },
    "tags": []
   },
   "outputs": [
    {
     "name": "stdout",
     "output_type": "stream",
     "text": [
      "Categorical columns: ['Sex', 'Ticket', 'Cabin', 'Embarked', 'Title']\n",
      "Numerical columns: ['Pclass', 'Age', 'SibSp', 'Parch', 'FamilySize']\n"
     ]
    },
    {
     "name": "stderr",
     "output_type": "stream",
     "text": [
      "/opt/conda/lib/python3.10/site-packages/sklearn/preprocessing/_encoders.py:868: FutureWarning: `sparse` was renamed to `sparse_output` in version 1.2 and will be removed in 1.4. `sparse_output` is ignored unless you leave `sparse` to its default value.\n",
      "  warnings.warn(\n"
     ]
    }
   ],
   "source": [
    "import pandas as pd\n",
    "from sklearn.model_selection import train_test_split\n",
    "from sklearn.preprocessing import StandardScaler, OneHotEncoder\n",
    "from sklearn.impute import SimpleImputer\n",
    "from sklearn.pipeline import make_pipeline\n",
    "from sklearn.compose import make_column_transformer\n",
    "import numpy as np\n",
    "\n",
    "# Load data\n",
    "X_trainda = pd.read_csv('/kaggle/input/titanic/train.csv')\n",
    "X_test = pd.read_csv('/kaggle/input/titanic/test.csv')\n",
    "\n",
    "y = X_trainda.pop('Survived')\n",
    "\n",
    "def extract_title(df):\n",
    "    return df['Name'].apply(lambda name: name.split(',')[1].split('.')[0].strip())\n",
    "X_trainda['Title'] = extract_title(X_trainda)\n",
    "\n",
    "# Function to distinguish categorical and numerical data\n",
    "def distinguish_data_types(df):\n",
    "    categorical_columns = df.select_dtypes(include=['object', 'category']).columns.tolist()\n",
    "    numerical_columns = df.select_dtypes(include=['number']).columns.tolist()\n",
    "    return categorical_columns, numerical_columns\n",
    "# Function to calculate family size\n",
    "def calculate_family_size(df):\n",
    "    return df['SibSp'] + df['Parch'] + 1\n",
    "X_trainda['FamilySize'] = calculate_family_size(X_trainda)\n",
    "X_test['FamilySize'] = calculate_family_size(X_test)\n",
    "features_cat, features_num = distinguish_data_types(X_trainda)\n",
    "features_cat.remove('Name')\n",
    "X_trainda = X_trainda.drop(columns=['Name'])\n",
    "features_num.remove('PassengerId')\n",
    "X_trainda = X_trainda.drop(columns=['PassengerId'])\n",
    "features_num.remove('Fare')\n",
    "X_trainda = X_trainda.drop(columns=['Fare'])\n",
    "\n",
    "\n",
    "print(\"Categorical columns:\", features_cat)\n",
    "print(\"Numerical columns:\", features_num )\n",
    "# Preprocessing pipelines\n",
    "transformer_num = make_pipeline(\n",
    "    SimpleImputer(strategy=\"constant\", fill_value=0),  # Fill missing values with 0\n",
    "    StandardScaler(),\n",
    ")\n",
    "\n",
    "transformer_cat = make_pipeline(\n",
    "    SimpleImputer(strategy=\"constant\", fill_value=\"NA\"),\n",
    "    OneHotEncoder(handle_unknown='ignore', sparse=False),  # Ensure dense output\n",
    ")\n",
    "\n",
    "preprocessor = make_column_transformer(\n",
    "    (transformer_num, features_num),\n",
    "    (transformer_cat, features_cat),\n",
    ")\n",
    "\n",
    "# Stratified split of the data\n",
    "X_train, X_valid, y_train, y_valid = train_test_split(\n",
    "    X_trainda, y, stratify=y, train_size=0.75\n",
    ")\n",
    "\n",
    "# Transform the data\n",
    "X_train = preprocessor.fit_transform(X_train)\n",
    "X_valid = preprocessor.transform(X_valid)\n",
    "\n",
    "# Convert to float32 if not already\n",
    "X_train = X_train.astype('float32')\n",
    "X_valid = X_valid.astype('float32')\n",
    "\n",
    "input_shape = [X_train.shape[1]]\n"
   ]
  },
  {
   "cell_type": "code",
   "execution_count": 3,
   "id": "4d7809f6",
   "metadata": {
    "execution": {
     "iopub.execute_input": "2024-07-25T08:25:09.101898Z",
     "iopub.status.busy": "2024-07-25T08:25:09.100910Z",
     "iopub.status.idle": "2024-07-25T08:25:22.050586Z",
     "shell.execute_reply": "2024-07-25T08:25:22.049422Z"
    },
    "papermill": {
     "duration": 12.956258,
     "end_time": "2024-07-25T08:25:22.053162",
     "exception": false,
     "start_time": "2024-07-25T08:25:09.096904",
     "status": "completed"
    },
    "tags": []
   },
   "outputs": [
    {
     "name": "stderr",
     "output_type": "stream",
     "text": [
      "2024-07-25 08:25:11.121649: E external/local_xla/xla/stream_executor/cuda/cuda_dnn.cc:9261] Unable to register cuDNN factory: Attempting to register factory for plugin cuDNN when one has already been registered\n",
      "2024-07-25 08:25:11.121796: E external/local_xla/xla/stream_executor/cuda/cuda_fft.cc:607] Unable to register cuFFT factory: Attempting to register factory for plugin cuFFT when one has already been registered\n",
      "2024-07-25 08:25:11.267245: E external/local_xla/xla/stream_executor/cuda/cuda_blas.cc:1515] Unable to register cuBLAS factory: Attempting to register factory for plugin cuBLAS when one has already been registered\n",
      "/opt/conda/lib/python3.10/site-packages/keras/src/layers/normalization/batch_normalization.py:143: UserWarning: Do not pass an `input_shape`/`input_dim` argument to a layer. When using Sequential models, prefer using an `Input(shape)` object as the first layer in the model instead.\n",
      "  super().__init__(**kwargs)\n"
     ]
    }
   ],
   "source": [
    "from tensorflow import keras\n",
    "from tensorflow.keras import layers\n",
    "from keras.regularizers import l2\n",
    "\n",
    "model = keras.Sequential([\n",
    "    layers.BatchNormalization(input_shape=input_shape,),  # BatchNormalization layer with input shape\n",
    "    layers.Dense(256, activation='relu',kernel_regularizer=l2(0.001)),               # First Dense layer\n",
    "    layers.BatchNormalization(),                        # BatchNormalization after first Dense layer\n",
    "    layers.Dropout(0.3),                                # Dropout after first Dense layer\n",
    "    layers.Dense(256, activation='relu',kernel_regularizer=l2(0.001)),               # Second Dense layer\n",
    "    layers.BatchNormalization(),                        # BatchNormalization after second Dense layer\n",
    "    layers.Dropout(0.3),                                # Dropout after second Dense layer\n",
    "    layers.Dense(1, activation='sigmoid')               # Output layer with sigmoid activation for binary classification\n",
    "])"
   ]
  },
  {
   "cell_type": "code",
   "execution_count": 4,
   "id": "5c3ff64a",
   "metadata": {
    "execution": {
     "iopub.execute_input": "2024-07-25T08:25:22.061597Z",
     "iopub.status.busy": "2024-07-25T08:25:22.060577Z",
     "iopub.status.idle": "2024-07-25T08:25:22.077797Z",
     "shell.execute_reply": "2024-07-25T08:25:22.076763Z"
    },
    "papermill": {
     "duration": 0.024205,
     "end_time": "2024-07-25T08:25:22.080491",
     "exception": false,
     "start_time": "2024-07-25T08:25:22.056286",
     "status": "completed"
    },
    "tags": []
   },
   "outputs": [],
   "source": [
    "model.compile(\n",
    "    optimizer='adam',\n",
    "    loss='binary_crossentropy',\n",
    "    metrics=['binary_accuracy']\n",
    ")"
   ]
  },
  {
   "cell_type": "code",
   "execution_count": 5,
   "id": "629b425f",
   "metadata": {
    "execution": {
     "iopub.execute_input": "2024-07-25T08:25:22.088722Z",
     "iopub.status.busy": "2024-07-25T08:25:22.088006Z",
     "iopub.status.idle": "2024-07-25T08:25:35.355649Z",
     "shell.execute_reply": "2024-07-25T08:25:35.354365Z"
    },
    "papermill": {
     "duration": 13.274554,
     "end_time": "2024-07-25T08:25:35.358162",
     "exception": false,
     "start_time": "2024-07-25T08:25:22.083608",
     "status": "completed"
    },
    "tags": []
   },
   "outputs": [
    {
     "name": "stdout",
     "output_type": "stream",
     "text": [
      "Epoch 1/200\n",
      "\u001b[1m2/2\u001b[0m \u001b[32m━━━━━━━━━━━━━━━━━━━━\u001b[0m\u001b[37m\u001b[0m \u001b[1m3s\u001b[0m 315ms/step - binary_accuracy: 0.5123 - loss: 1.5521 - val_binary_accuracy: 0.6771 - val_loss: 1.2857\n",
      "Epoch 2/200\n",
      "\u001b[1m2/2\u001b[0m \u001b[32m━━━━━━━━━━━━━━━━━━━━\u001b[0m\u001b[37m\u001b[0m \u001b[1m0s\u001b[0m 45ms/step - binary_accuracy: 0.6312 - loss: 1.3077 - val_binary_accuracy: 0.6951 - val_loss: 1.2554\n",
      "Epoch 3/200\n",
      "\u001b[1m2/2\u001b[0m \u001b[32m━━━━━━━━━━━━━━━━━━━━\u001b[0m\u001b[37m\u001b[0m \u001b[1m0s\u001b[0m 45ms/step - binary_accuracy: 0.7526 - loss: 1.1198 - val_binary_accuracy: 0.6996 - val_loss: 1.2284\n",
      "Epoch 4/200\n",
      "\u001b[1m2/2\u001b[0m \u001b[32m━━━━━━━━━━━━━━━━━━━━\u001b[0m\u001b[37m\u001b[0m \u001b[1m0s\u001b[0m 44ms/step - binary_accuracy: 0.8181 - loss: 0.9853 - val_binary_accuracy: 0.6771 - val_loss: 1.2061\n",
      "Epoch 5/200\n",
      "\u001b[1m2/2\u001b[0m \u001b[32m━━━━━━━━━━━━━━━━━━━━\u001b[0m\u001b[37m\u001b[0m \u001b[1m0s\u001b[0m 42ms/step - binary_accuracy: 0.8686 - loss: 0.9025 - val_binary_accuracy: 0.6726 - val_loss: 1.1877\n",
      "Epoch 6/200\n",
      "\u001b[1m2/2\u001b[0m \u001b[32m━━━━━━━━━━━━━━━━━━━━\u001b[0m\u001b[37m\u001b[0m \u001b[1m0s\u001b[0m 49ms/step - binary_accuracy: 0.8762 - loss: 0.8596 - val_binary_accuracy: 0.6726 - val_loss: 1.1717\n",
      "Epoch 7/200\n",
      "\u001b[1m2/2\u001b[0m \u001b[32m━━━━━━━━━━━━━━━━━━━━\u001b[0m\u001b[37m\u001b[0m \u001b[1m0s\u001b[0m 46ms/step - binary_accuracy: 0.9409 - loss: 0.7852 - val_binary_accuracy: 0.6592 - val_loss: 1.1575\n",
      "Epoch 8/200\n",
      "\u001b[1m2/2\u001b[0m \u001b[32m━━━━━━━━━━━━━━━━━━━━\u001b[0m\u001b[37m\u001b[0m \u001b[1m0s\u001b[0m 41ms/step - binary_accuracy: 0.9392 - loss: 0.7540 - val_binary_accuracy: 0.6592 - val_loss: 1.1452\n",
      "Epoch 9/200\n",
      "\u001b[1m2/2\u001b[0m \u001b[32m━━━━━━━━━━━━━━━━━━━━\u001b[0m\u001b[37m\u001b[0m \u001b[1m0s\u001b[0m 41ms/step - binary_accuracy: 0.9399 - loss: 0.7132 - val_binary_accuracy: 0.6502 - val_loss: 1.1341\n",
      "Epoch 10/200\n",
      "\u001b[1m2/2\u001b[0m \u001b[32m━━━━━━━━━━━━━━━━━━━━\u001b[0m\u001b[37m\u001b[0m \u001b[1m0s\u001b[0m 40ms/step - binary_accuracy: 0.9627 - loss: 0.6783 - val_binary_accuracy: 0.6502 - val_loss: 1.1238\n",
      "Epoch 11/200\n",
      "\u001b[1m2/2\u001b[0m \u001b[32m━━━━━━━━━━━━━━━━━━━━\u001b[0m\u001b[37m\u001b[0m \u001b[1m0s\u001b[0m 44ms/step - binary_accuracy: 0.9637 - loss: 0.6546 - val_binary_accuracy: 0.6502 - val_loss: 1.1142\n",
      "Epoch 12/200\n",
      "\u001b[1m2/2\u001b[0m \u001b[32m━━━━━━━━━━━━━━━━━━━━\u001b[0m\u001b[37m\u001b[0m \u001b[1m0s\u001b[0m 41ms/step - binary_accuracy: 0.9802 - loss: 0.6168 - val_binary_accuracy: 0.6547 - val_loss: 1.1052\n",
      "Epoch 13/200\n",
      "\u001b[1m2/2\u001b[0m \u001b[32m━━━━━━━━━━━━━━━━━━━━\u001b[0m\u001b[37m\u001b[0m \u001b[1m0s\u001b[0m 42ms/step - binary_accuracy: 0.9699 - loss: 0.6149 - val_binary_accuracy: 0.6502 - val_loss: 1.0965\n",
      "Epoch 14/200\n",
      "\u001b[1m2/2\u001b[0m \u001b[32m━━━━━━━━━━━━━━━━━━━━\u001b[0m\u001b[37m\u001b[0m \u001b[1m0s\u001b[0m 41ms/step - binary_accuracy: 0.9805 - loss: 0.5782 - val_binary_accuracy: 0.6547 - val_loss: 1.0880\n",
      "Epoch 15/200\n",
      "\u001b[1m2/2\u001b[0m \u001b[32m━━━━━━━━━━━━━━━━━━━━\u001b[0m\u001b[37m\u001b[0m \u001b[1m0s\u001b[0m 42ms/step - binary_accuracy: 0.9911 - loss: 0.5561 - val_binary_accuracy: 0.6592 - val_loss: 1.0800\n",
      "Epoch 16/200\n",
      "\u001b[1m2/2\u001b[0m \u001b[32m━━━━━━━━━━━━━━━━━━━━\u001b[0m\u001b[37m\u001b[0m \u001b[1m0s\u001b[0m 42ms/step - binary_accuracy: 0.9898 - loss: 0.5481 - val_binary_accuracy: 0.6592 - val_loss: 1.0727\n",
      "Epoch 17/200\n",
      "\u001b[1m2/2\u001b[0m \u001b[32m━━━━━━━━━━━━━━━━━━━━\u001b[0m\u001b[37m\u001b[0m \u001b[1m0s\u001b[0m 41ms/step - binary_accuracy: 0.9924 - loss: 0.5327 - val_binary_accuracy: 0.6592 - val_loss: 1.0657\n",
      "Epoch 18/200\n",
      "\u001b[1m2/2\u001b[0m \u001b[32m━━━━━━━━━━━━━━━━━━━━\u001b[0m\u001b[37m\u001b[0m \u001b[1m0s\u001b[0m 41ms/step - binary_accuracy: 0.9888 - loss: 0.5288 - val_binary_accuracy: 0.6637 - val_loss: 1.0592\n",
      "Epoch 19/200\n",
      "\u001b[1m2/2\u001b[0m \u001b[32m━━━━━━━━━━━━━━━━━━━━\u001b[0m\u001b[37m\u001b[0m \u001b[1m0s\u001b[0m 43ms/step - binary_accuracy: 0.9941 - loss: 0.5090 - val_binary_accuracy: 0.6592 - val_loss: 1.0541\n",
      "Epoch 20/200\n",
      "\u001b[1m2/2\u001b[0m \u001b[32m━━━━━━━━━━━━━━━━━━━━\u001b[0m\u001b[37m\u001b[0m \u001b[1m0s\u001b[0m 42ms/step - binary_accuracy: 0.9921 - loss: 0.4992 - val_binary_accuracy: 0.6547 - val_loss: 1.0498\n",
      "Epoch 21/200\n",
      "\u001b[1m2/2\u001b[0m \u001b[32m━━━━━━━━━━━━━━━━━━━━\u001b[0m\u001b[37m\u001b[0m \u001b[1m0s\u001b[0m 42ms/step - binary_accuracy: 0.9934 - loss: 0.4883 - val_binary_accuracy: 0.6547 - val_loss: 1.0457\n",
      "Epoch 22/200\n",
      "\u001b[1m2/2\u001b[0m \u001b[32m━━━━━━━━━━━━━━━━━━━━\u001b[0m\u001b[37m\u001b[0m \u001b[1m0s\u001b[0m 41ms/step - binary_accuracy: 0.9937 - loss: 0.4865 - val_binary_accuracy: 0.6547 - val_loss: 1.0422\n",
      "Epoch 23/200\n",
      "\u001b[1m2/2\u001b[0m \u001b[32m━━━━━━━━━━━━━━━━━━━━\u001b[0m\u001b[37m\u001b[0m \u001b[1m0s\u001b[0m 42ms/step - binary_accuracy: 0.9898 - loss: 0.4828 - val_binary_accuracy: 0.6592 - val_loss: 1.0392\n",
      "Epoch 24/200\n",
      "\u001b[1m2/2\u001b[0m \u001b[32m━━━━━━━━━━━━━━━━━━━━\u001b[0m\u001b[37m\u001b[0m \u001b[1m0s\u001b[0m 42ms/step - binary_accuracy: 0.9908 - loss: 0.4705 - val_binary_accuracy: 0.6547 - val_loss: 1.0362\n",
      "Epoch 25/200\n",
      "\u001b[1m2/2\u001b[0m \u001b[32m━━━━━━━━━━━━━━━━━━━━\u001b[0m\u001b[37m\u001b[0m \u001b[1m0s\u001b[0m 41ms/step - binary_accuracy: 0.9901 - loss: 0.4617 - val_binary_accuracy: 0.6547 - val_loss: 1.0324\n",
      "Epoch 26/200\n",
      "\u001b[1m2/2\u001b[0m \u001b[32m━━━━━━━━━━━━━━━━━━━━\u001b[0m\u001b[37m\u001b[0m \u001b[1m0s\u001b[0m 42ms/step - binary_accuracy: 0.9941 - loss: 0.4561 - val_binary_accuracy: 0.6637 - val_loss: 1.0282\n",
      "Epoch 27/200\n",
      "\u001b[1m2/2\u001b[0m \u001b[32m━━━━━━━━━━━━━━━━━━━━\u001b[0m\u001b[37m\u001b[0m \u001b[1m0s\u001b[0m 42ms/step - binary_accuracy: 0.9964 - loss: 0.4487 - val_binary_accuracy: 0.6682 - val_loss: 1.0228\n",
      "Epoch 28/200\n",
      "\u001b[1m2/2\u001b[0m \u001b[32m━━━━━━━━━━━━━━━━━━━━\u001b[0m\u001b[37m\u001b[0m \u001b[1m0s\u001b[0m 41ms/step - binary_accuracy: 0.9931 - loss: 0.4420 - val_binary_accuracy: 0.6682 - val_loss: 1.0164\n",
      "Epoch 29/200\n",
      "\u001b[1m2/2\u001b[0m \u001b[32m━━━━━━━━━━━━━━━━━━━━\u001b[0m\u001b[37m\u001b[0m \u001b[1m0s\u001b[0m 41ms/step - binary_accuracy: 0.9984 - loss: 0.4331 - val_binary_accuracy: 0.6682 - val_loss: 1.0094\n",
      "Epoch 30/200\n",
      "\u001b[1m2/2\u001b[0m \u001b[32m━━━━━━━━━━━━━━━━━━━━\u001b[0m\u001b[37m\u001b[0m \u001b[1m0s\u001b[0m 41ms/step - binary_accuracy: 0.9951 - loss: 0.4285 - val_binary_accuracy: 0.6771 - val_loss: 1.0029\n",
      "Epoch 31/200\n",
      "\u001b[1m2/2\u001b[0m \u001b[32m━━━━━━━━━━━━━━━━━━━━\u001b[0m\u001b[37m\u001b[0m \u001b[1m0s\u001b[0m 42ms/step - binary_accuracy: 0.9934 - loss: 0.4216 - val_binary_accuracy: 0.6816 - val_loss: 0.9963\n",
      "Epoch 32/200\n",
      "\u001b[1m2/2\u001b[0m \u001b[32m━━━━━━━━━━━━━━━━━━━━\u001b[0m\u001b[37m\u001b[0m \u001b[1m0s\u001b[0m 40ms/step - binary_accuracy: 0.9947 - loss: 0.4198 - val_binary_accuracy: 0.6816 - val_loss: 0.9896\n",
      "Epoch 33/200\n",
      "\u001b[1m2/2\u001b[0m \u001b[32m━━━━━━━━━━━━━━━━━━━━\u001b[0m\u001b[37m\u001b[0m \u001b[1m0s\u001b[0m 41ms/step - binary_accuracy: 0.9941 - loss: 0.4134 - val_binary_accuracy: 0.6861 - val_loss: 0.9830\n",
      "Epoch 34/200\n",
      "\u001b[1m2/2\u001b[0m \u001b[32m━━━━━━━━━━━━━━━━━━━━\u001b[0m\u001b[37m\u001b[0m \u001b[1m0s\u001b[0m 41ms/step - binary_accuracy: 0.9931 - loss: 0.4131 - val_binary_accuracy: 0.6816 - val_loss: 0.9768\n",
      "Epoch 35/200\n",
      "\u001b[1m2/2\u001b[0m \u001b[32m━━━━━━━━━━━━━━━━━━━━\u001b[0m\u001b[37m\u001b[0m \u001b[1m0s\u001b[0m 42ms/step - binary_accuracy: 0.9931 - loss: 0.4033 - val_binary_accuracy: 0.6816 - val_loss: 0.9712\n",
      "Epoch 36/200\n",
      "\u001b[1m2/2\u001b[0m \u001b[32m━━━━━━━━━━━━━━━━━━━━\u001b[0m\u001b[37m\u001b[0m \u001b[1m0s\u001b[0m 42ms/step - binary_accuracy: 0.9914 - loss: 0.4073 - val_binary_accuracy: 0.6816 - val_loss: 0.9655\n",
      "Epoch 37/200\n",
      "\u001b[1m2/2\u001b[0m \u001b[32m━━━━━━━━━━━━━━━━━━━━\u001b[0m\u001b[37m\u001b[0m \u001b[1m0s\u001b[0m 42ms/step - binary_accuracy: 0.9951 - loss: 0.3960 - val_binary_accuracy: 0.6906 - val_loss: 0.9597\n",
      "Epoch 38/200\n",
      "\u001b[1m2/2\u001b[0m \u001b[32m━━━━━━━━━━━━━━━━━━━━\u001b[0m\u001b[37m\u001b[0m \u001b[1m0s\u001b[0m 41ms/step - binary_accuracy: 0.9937 - loss: 0.3922 - val_binary_accuracy: 0.6906 - val_loss: 0.9546\n",
      "Epoch 39/200\n",
      "\u001b[1m2/2\u001b[0m \u001b[32m━━━━━━━━━━━━━━━━━━━━\u001b[0m\u001b[37m\u001b[0m \u001b[1m0s\u001b[0m 41ms/step - binary_accuracy: 0.9924 - loss: 0.3924 - val_binary_accuracy: 0.6906 - val_loss: 0.9496\n",
      "Epoch 40/200\n",
      "\u001b[1m2/2\u001b[0m \u001b[32m━━━━━━━━━━━━━━━━━━━━\u001b[0m\u001b[37m\u001b[0m \u001b[1m0s\u001b[0m 41ms/step - binary_accuracy: 0.9934 - loss: 0.3865 - val_binary_accuracy: 0.6906 - val_loss: 0.9451\n",
      "Epoch 41/200\n",
      "\u001b[1m2/2\u001b[0m \u001b[32m━━━━━━━━━━━━━━━━━━━━\u001b[0m\u001b[37m\u001b[0m \u001b[1m0s\u001b[0m 47ms/step - binary_accuracy: 0.9934 - loss: 0.3787 - val_binary_accuracy: 0.6906 - val_loss: 0.9416\n",
      "Epoch 42/200\n",
      "\u001b[1m2/2\u001b[0m \u001b[32m━━━━━━━━━━━━━━━━━━━━\u001b[0m\u001b[37m\u001b[0m \u001b[1m0s\u001b[0m 43ms/step - binary_accuracy: 0.9990 - loss: 0.3726 - val_binary_accuracy: 0.6906 - val_loss: 0.9388\n",
      "Epoch 43/200\n",
      "\u001b[1m2/2\u001b[0m \u001b[32m━━━━━━━━━━━━━━━━━━━━\u001b[0m\u001b[37m\u001b[0m \u001b[1m0s\u001b[0m 41ms/step - binary_accuracy: 0.9908 - loss: 0.3735 - val_binary_accuracy: 0.6906 - val_loss: 0.9356\n",
      "Epoch 44/200\n",
      "\u001b[1m2/2\u001b[0m \u001b[32m━━━━━━━━━━━━━━━━━━━━\u001b[0m\u001b[37m\u001b[0m \u001b[1m0s\u001b[0m 42ms/step - binary_accuracy: 0.9974 - loss: 0.3685 - val_binary_accuracy: 0.6906 - val_loss: 0.9333\n",
      "Epoch 45/200\n",
      "\u001b[1m2/2\u001b[0m \u001b[32m━━━━━━━━━━━━━━━━━━━━\u001b[0m\u001b[37m\u001b[0m \u001b[1m0s\u001b[0m 43ms/step - binary_accuracy: 0.9957 - loss: 0.3639 - val_binary_accuracy: 0.6906 - val_loss: 0.9309\n",
      "Epoch 46/200\n",
      "\u001b[1m2/2\u001b[0m \u001b[32m━━━━━━━━━━━━━━━━━━━━\u001b[0m\u001b[37m\u001b[0m \u001b[1m0s\u001b[0m 43ms/step - binary_accuracy: 0.9924 - loss: 0.3619 - val_binary_accuracy: 0.6906 - val_loss: 0.9278\n",
      "Epoch 47/200\n",
      "\u001b[1m2/2\u001b[0m \u001b[32m━━━━━━━━━━━━━━━━━━━━\u001b[0m\u001b[37m\u001b[0m \u001b[1m0s\u001b[0m 45ms/step - binary_accuracy: 0.9904 - loss: 0.3607 - val_binary_accuracy: 0.6906 - val_loss: 0.9252\n",
      "Epoch 48/200\n",
      "\u001b[1m2/2\u001b[0m \u001b[32m━━━━━━━━━━━━━━━━━━━━\u001b[0m\u001b[37m\u001b[0m \u001b[1m0s\u001b[0m 38ms/step - binary_accuracy: 0.9934 - loss: 0.3536 - val_binary_accuracy: 0.6906 - val_loss: 0.9246\n",
      "Epoch 49/200\n",
      "\u001b[1m2/2\u001b[0m \u001b[32m━━━━━━━━━━━━━━━━━━━━\u001b[0m\u001b[37m\u001b[0m \u001b[1m0s\u001b[0m 42ms/step - binary_accuracy: 0.9941 - loss: 0.3515 - val_binary_accuracy: 0.6906 - val_loss: 0.9237\n",
      "Epoch 50/200\n",
      "\u001b[1m2/2\u001b[0m \u001b[32m━━━━━━━━━━━━━━━━━━━━\u001b[0m\u001b[37m\u001b[0m \u001b[1m0s\u001b[0m 42ms/step - binary_accuracy: 0.9964 - loss: 0.3425 - val_binary_accuracy: 0.6906 - val_loss: 0.9215\n",
      "Epoch 51/200\n",
      "\u001b[1m2/2\u001b[0m \u001b[32m━━━━━━━━━━━━━━━━━━━━\u001b[0m\u001b[37m\u001b[0m \u001b[1m0s\u001b[0m 42ms/step - binary_accuracy: 0.9924 - loss: 0.3461 - val_binary_accuracy: 0.6906 - val_loss: 0.9188\n",
      "Epoch 52/200\n",
      "\u001b[1m2/2\u001b[0m \u001b[32m━━━━━━━━━━━━━━━━━━━━\u001b[0m\u001b[37m\u001b[0m \u001b[1m0s\u001b[0m 42ms/step - binary_accuracy: 0.9934 - loss: 0.3422 - val_binary_accuracy: 0.6906 - val_loss: 0.9154\n",
      "Epoch 53/200\n",
      "\u001b[1m2/2\u001b[0m \u001b[32m━━━━━━━━━━━━━━━━━━━━\u001b[0m\u001b[37m\u001b[0m \u001b[1m0s\u001b[0m 41ms/step - binary_accuracy: 0.9957 - loss: 0.3412 - val_binary_accuracy: 0.6951 - val_loss: 0.9123\n",
      "Epoch 54/200\n",
      "\u001b[1m2/2\u001b[0m \u001b[32m━━━━━━━━━━━━━━━━━━━━\u001b[0m\u001b[37m\u001b[0m \u001b[1m0s\u001b[0m 41ms/step - binary_accuracy: 0.9957 - loss: 0.3344 - val_binary_accuracy: 0.6951 - val_loss: 0.9082\n",
      "Epoch 55/200\n",
      "\u001b[1m2/2\u001b[0m \u001b[32m━━━━━━━━━━━━━━━━━━━━\u001b[0m\u001b[37m\u001b[0m \u001b[1m0s\u001b[0m 42ms/step - binary_accuracy: 0.9941 - loss: 0.3304 - val_binary_accuracy: 0.6951 - val_loss: 0.9042\n",
      "Epoch 56/200\n",
      "\u001b[1m2/2\u001b[0m \u001b[32m━━━━━━━━━━━━━━━━━━━━\u001b[0m\u001b[37m\u001b[0m \u001b[1m0s\u001b[0m 47ms/step - binary_accuracy: 0.9951 - loss: 0.3286 - val_binary_accuracy: 0.6951 - val_loss: 0.9004\n",
      "Epoch 57/200\n",
      "\u001b[1m2/2\u001b[0m \u001b[32m━━━━━━━━━━━━━━━━━━━━\u001b[0m\u001b[37m\u001b[0m \u001b[1m0s\u001b[0m 41ms/step - binary_accuracy: 0.9941 - loss: 0.3246 - val_binary_accuracy: 0.6951 - val_loss: 0.8986\n",
      "Epoch 58/200\n",
      "\u001b[1m2/2\u001b[0m \u001b[32m━━━━━━━━━━━━━━━━━━━━\u001b[0m\u001b[37m\u001b[0m \u001b[1m0s\u001b[0m 40ms/step - binary_accuracy: 0.9974 - loss: 0.3225 - val_binary_accuracy: 0.6951 - val_loss: 0.8963\n",
      "Epoch 59/200\n",
      "\u001b[1m2/2\u001b[0m \u001b[32m━━━━━━━━━━━━━━━━━━━━\u001b[0m\u001b[37m\u001b[0m \u001b[1m0s\u001b[0m 42ms/step - binary_accuracy: 0.9990 - loss: 0.3128 - val_binary_accuracy: 0.6951 - val_loss: 0.8949\n",
      "Epoch 60/200\n",
      "\u001b[1m2/2\u001b[0m \u001b[32m━━━━━━━━━━━━━━━━━━━━\u001b[0m\u001b[37m\u001b[0m \u001b[1m0s\u001b[0m 42ms/step - binary_accuracy: 0.9957 - loss: 0.3152 - val_binary_accuracy: 0.6951 - val_loss: 0.8922\n",
      "Epoch 61/200\n",
      "\u001b[1m2/2\u001b[0m \u001b[32m━━━━━━━━━━━━━━━━━━━━\u001b[0m\u001b[37m\u001b[0m \u001b[1m0s\u001b[0m 41ms/step - binary_accuracy: 0.9924 - loss: 0.3175 - val_binary_accuracy: 0.6951 - val_loss: 0.8893\n",
      "Epoch 62/200\n",
      "\u001b[1m2/2\u001b[0m \u001b[32m━━━━━━━━━━━━━━━━━━━━\u001b[0m\u001b[37m\u001b[0m \u001b[1m0s\u001b[0m 41ms/step - binary_accuracy: 0.9947 - loss: 0.3097 - val_binary_accuracy: 0.6951 - val_loss: 0.8866\n",
      "Epoch 63/200\n",
      "\u001b[1m2/2\u001b[0m \u001b[32m━━━━━━━━━━━━━━━━━━━━\u001b[0m\u001b[37m\u001b[0m \u001b[1m0s\u001b[0m 41ms/step - binary_accuracy: 0.9941 - loss: 0.3129 - val_binary_accuracy: 0.6951 - val_loss: 0.8848\n",
      "Epoch 64/200\n",
      "\u001b[1m2/2\u001b[0m \u001b[32m━━━━━━━━━━━━━━━━━━━━\u001b[0m\u001b[37m\u001b[0m \u001b[1m0s\u001b[0m 41ms/step - binary_accuracy: 0.9934 - loss: 0.3073 - val_binary_accuracy: 0.6951 - val_loss: 0.8832\n",
      "Epoch 65/200\n",
      "\u001b[1m2/2\u001b[0m \u001b[32m━━━━━━━━━━━━━━━━━━━━\u001b[0m\u001b[37m\u001b[0m \u001b[1m0s\u001b[0m 40ms/step - binary_accuracy: 0.9951 - loss: 0.3015 - val_binary_accuracy: 0.6951 - val_loss: 0.8817\n",
      "Epoch 66/200\n",
      "\u001b[1m2/2\u001b[0m \u001b[32m━━━━━━━━━━━━━━━━━━━━\u001b[0m\u001b[37m\u001b[0m \u001b[1m0s\u001b[0m 39ms/step - binary_accuracy: 0.9951 - loss: 0.2989 - val_binary_accuracy: 0.6996 - val_loss: 0.8807\n",
      "Epoch 67/200\n",
      "\u001b[1m2/2\u001b[0m \u001b[32m━━━━━━━━━━━━━━━━━━━━\u001b[0m\u001b[37m\u001b[0m \u001b[1m0s\u001b[0m 41ms/step - binary_accuracy: 0.9941 - loss: 0.2998 - val_binary_accuracy: 0.6996 - val_loss: 0.8785\n",
      "Epoch 68/200\n",
      "\u001b[1m2/2\u001b[0m \u001b[32m━━━━━━━━━━━━━━━━━━━━\u001b[0m\u001b[37m\u001b[0m \u001b[1m0s\u001b[0m 38ms/step - binary_accuracy: 0.9918 - loss: 0.3006 - val_binary_accuracy: 0.6996 - val_loss: 0.8776\n",
      "Epoch 69/200\n",
      "\u001b[1m2/2\u001b[0m \u001b[32m━━━━━━━━━━━━━━━━━━━━\u001b[0m\u001b[37m\u001b[0m \u001b[1m0s\u001b[0m 42ms/step - binary_accuracy: 0.9974 - loss: 0.2899 - val_binary_accuracy: 0.6996 - val_loss: 0.8764\n",
      "Epoch 70/200\n",
      "\u001b[1m2/2\u001b[0m \u001b[32m━━━━━━━━━━━━━━━━━━━━\u001b[0m\u001b[37m\u001b[0m \u001b[1m0s\u001b[0m 42ms/step - binary_accuracy: 0.9918 - loss: 0.2944 - val_binary_accuracy: 0.6996 - val_loss: 0.8753\n",
      "Epoch 71/200\n",
      "\u001b[1m2/2\u001b[0m \u001b[32m━━━━━━━━━━━━━━━━━━━━\u001b[0m\u001b[37m\u001b[0m \u001b[1m0s\u001b[0m 37ms/step - binary_accuracy: 0.9934 - loss: 0.2871 - val_binary_accuracy: 0.6996 - val_loss: 0.8749\n",
      "Epoch 72/200\n",
      "\u001b[1m2/2\u001b[0m \u001b[32m━━━━━━━━━━━━━━━━━━━━\u001b[0m\u001b[37m\u001b[0m \u001b[1m0s\u001b[0m 41ms/step - binary_accuracy: 0.9951 - loss: 0.2845 - val_binary_accuracy: 0.7040 - val_loss: 0.8718\n",
      "Epoch 73/200\n",
      "\u001b[1m2/2\u001b[0m \u001b[32m━━━━━━━━━━━━━━━━━━━━\u001b[0m\u001b[37m\u001b[0m \u001b[1m0s\u001b[0m 41ms/step - binary_accuracy: 0.9957 - loss: 0.2799 - val_binary_accuracy: 0.7085 - val_loss: 0.8654\n",
      "Epoch 74/200\n",
      "\u001b[1m2/2\u001b[0m \u001b[32m━━━━━━━━━━━━━━━━━━━━\u001b[0m\u001b[37m\u001b[0m \u001b[1m0s\u001b[0m 43ms/step - binary_accuracy: 0.9941 - loss: 0.2802 - val_binary_accuracy: 0.7085 - val_loss: 0.8579\n",
      "Epoch 75/200\n",
      "\u001b[1m2/2\u001b[0m \u001b[32m━━━━━━━━━━━━━━━━━━━━\u001b[0m\u001b[37m\u001b[0m \u001b[1m0s\u001b[0m 40ms/step - binary_accuracy: 0.9957 - loss: 0.2787 - val_binary_accuracy: 0.7175 - val_loss: 0.8490\n",
      "Epoch 76/200\n",
      "\u001b[1m2/2\u001b[0m \u001b[32m━━━━━━━━━━━━━━━━━━━━\u001b[0m\u001b[37m\u001b[0m \u001b[1m0s\u001b[0m 41ms/step - binary_accuracy: 0.9918 - loss: 0.2783 - val_binary_accuracy: 0.7220 - val_loss: 0.8402\n",
      "Epoch 77/200\n",
      "\u001b[1m2/2\u001b[0m \u001b[32m━━━━━━━━━━━━━━━━━━━━\u001b[0m\u001b[37m\u001b[0m \u001b[1m0s\u001b[0m 41ms/step - binary_accuracy: 0.9957 - loss: 0.2738 - val_binary_accuracy: 0.7220 - val_loss: 0.8352\n",
      "Epoch 78/200\n",
      "\u001b[1m2/2\u001b[0m \u001b[32m━━━━━━━━━━━━━━━━━━━━\u001b[0m\u001b[37m\u001b[0m \u001b[1m0s\u001b[0m 40ms/step - binary_accuracy: 0.9957 - loss: 0.2680 - val_binary_accuracy: 0.7220 - val_loss: 0.8306\n",
      "Epoch 79/200\n",
      "\u001b[1m2/2\u001b[0m \u001b[32m━━━━━━━━━━━━━━━━━━━━\u001b[0m\u001b[37m\u001b[0m \u001b[1m0s\u001b[0m 41ms/step - binary_accuracy: 0.9934 - loss: 0.2649 - val_binary_accuracy: 0.7220 - val_loss: 0.8262\n",
      "Epoch 80/200\n",
      "\u001b[1m2/2\u001b[0m \u001b[32m━━━━━━━━━━━━━━━━━━━━\u001b[0m\u001b[37m\u001b[0m \u001b[1m0s\u001b[0m 41ms/step - binary_accuracy: 0.9934 - loss: 0.2703 - val_binary_accuracy: 0.7220 - val_loss: 0.8226\n",
      "Epoch 81/200\n",
      "\u001b[1m2/2\u001b[0m \u001b[32m━━━━━━━━━━━━━━━━━━━━\u001b[0m\u001b[37m\u001b[0m \u001b[1m0s\u001b[0m 41ms/step - binary_accuracy: 0.9967 - loss: 0.2646 - val_binary_accuracy: 0.7220 - val_loss: 0.8202\n",
      "Epoch 82/200\n",
      "\u001b[1m2/2\u001b[0m \u001b[32m━━━━━━━━━━━━━━━━━━━━\u001b[0m\u001b[37m\u001b[0m \u001b[1m0s\u001b[0m 40ms/step - binary_accuracy: 0.9901 - loss: 0.2673 - val_binary_accuracy: 0.7220 - val_loss: 0.8179\n",
      "Epoch 83/200\n",
      "\u001b[1m2/2\u001b[0m \u001b[32m━━━━━━━━━━━━━━━━━━━━\u001b[0m\u001b[37m\u001b[0m \u001b[1m0s\u001b[0m 42ms/step - binary_accuracy: 0.9934 - loss: 0.2626 - val_binary_accuracy: 0.7220 - val_loss: 0.8158\n",
      "Epoch 84/200\n",
      "\u001b[1m2/2\u001b[0m \u001b[32m━━━━━━━━━━━━━━━━━━━━\u001b[0m\u001b[37m\u001b[0m \u001b[1m0s\u001b[0m 40ms/step - binary_accuracy: 0.9970 - loss: 0.2579 - val_binary_accuracy: 0.7220 - val_loss: 0.8120\n",
      "Epoch 85/200\n",
      "\u001b[1m2/2\u001b[0m \u001b[32m━━━━━━━━━━━━━━━━━━━━\u001b[0m\u001b[37m\u001b[0m \u001b[1m0s\u001b[0m 41ms/step - binary_accuracy: 0.9941 - loss: 0.2548 - val_binary_accuracy: 0.7265 - val_loss: 0.8057\n",
      "Epoch 86/200\n",
      "\u001b[1m2/2\u001b[0m \u001b[32m━━━━━━━━━━━━━━━━━━━━\u001b[0m\u001b[37m\u001b[0m \u001b[1m0s\u001b[0m 43ms/step - binary_accuracy: 0.9974 - loss: 0.2468 - val_binary_accuracy: 0.7265 - val_loss: 0.7987\n",
      "Epoch 87/200\n",
      "\u001b[1m2/2\u001b[0m \u001b[32m━━━━━━━━━━━━━━━━━━━━\u001b[0m\u001b[37m\u001b[0m \u001b[1m0s\u001b[0m 41ms/step - binary_accuracy: 0.9947 - loss: 0.2463 - val_binary_accuracy: 0.7309 - val_loss: 0.7903\n",
      "Epoch 88/200\n",
      "\u001b[1m2/2\u001b[0m \u001b[32m━━━━━━━━━━━━━━━━━━━━\u001b[0m\u001b[37m\u001b[0m \u001b[1m0s\u001b[0m 41ms/step - binary_accuracy: 0.9957 - loss: 0.2461 - val_binary_accuracy: 0.7399 - val_loss: 0.7803\n",
      "Epoch 89/200\n",
      "\u001b[1m2/2\u001b[0m \u001b[32m━━━━━━━━━━━━━━━━━━━━\u001b[0m\u001b[37m\u001b[0m \u001b[1m0s\u001b[0m 41ms/step - binary_accuracy: 0.9951 - loss: 0.2454 - val_binary_accuracy: 0.7444 - val_loss: 0.7710\n",
      "Epoch 90/200\n",
      "\u001b[1m2/2\u001b[0m \u001b[32m━━━━━━━━━━━━━━━━━━━━\u001b[0m\u001b[37m\u001b[0m \u001b[1m0s\u001b[0m 58ms/step - binary_accuracy: 0.9931 - loss: 0.2486 - val_binary_accuracy: 0.7444 - val_loss: 0.7626\n",
      "Epoch 91/200\n",
      "\u001b[1m2/2\u001b[0m \u001b[32m━━━━━━━━━━━━━━━━━━━━\u001b[0m\u001b[37m\u001b[0m \u001b[1m0s\u001b[0m 42ms/step - binary_accuracy: 0.9951 - loss: 0.2418 - val_binary_accuracy: 0.7444 - val_loss: 0.7557\n",
      "Epoch 92/200\n",
      "\u001b[1m2/2\u001b[0m \u001b[32m━━━━━━━━━━━━━━━━━━━━\u001b[0m\u001b[37m\u001b[0m \u001b[1m0s\u001b[0m 41ms/step - binary_accuracy: 0.9941 - loss: 0.2422 - val_binary_accuracy: 0.7399 - val_loss: 0.7499\n",
      "Epoch 93/200\n",
      "\u001b[1m2/2\u001b[0m \u001b[32m━━━━━━━━━━━━━━━━━━━━\u001b[0m\u001b[37m\u001b[0m \u001b[1m0s\u001b[0m 42ms/step - binary_accuracy: 0.9974 - loss: 0.2366 - val_binary_accuracy: 0.7399 - val_loss: 0.7451\n",
      "Epoch 94/200\n",
      "\u001b[1m2/2\u001b[0m \u001b[32m━━━━━━━━━━━━━━━━━━━━\u001b[0m\u001b[37m\u001b[0m \u001b[1m0s\u001b[0m 43ms/step - binary_accuracy: 0.9931 - loss: 0.2379 - val_binary_accuracy: 0.7399 - val_loss: 0.7392\n",
      "Epoch 95/200\n",
      "\u001b[1m2/2\u001b[0m \u001b[32m━━━━━━━━━━━━━━━━━━━━\u001b[0m\u001b[37m\u001b[0m \u001b[1m0s\u001b[0m 46ms/step - binary_accuracy: 0.9964 - loss: 0.2340 - val_binary_accuracy: 0.7623 - val_loss: 0.7332\n",
      "Epoch 96/200\n",
      "\u001b[1m2/2\u001b[0m \u001b[32m━━━━━━━━━━━━━━━━━━━━\u001b[0m\u001b[37m\u001b[0m \u001b[1m0s\u001b[0m 42ms/step - binary_accuracy: 0.9957 - loss: 0.2361 - val_binary_accuracy: 0.7803 - val_loss: 0.7293\n",
      "Epoch 97/200\n",
      "\u001b[1m2/2\u001b[0m \u001b[32m━━━━━━━━━━━━━━━━━━━━\u001b[0m\u001b[37m\u001b[0m \u001b[1m0s\u001b[0m 60ms/step - binary_accuracy: 0.9951 - loss: 0.2259 - val_binary_accuracy: 0.7803 - val_loss: 0.7263\n",
      "Epoch 98/200\n",
      "\u001b[1m2/2\u001b[0m \u001b[32m━━━━━━━━━━━━━━━━━━━━\u001b[0m\u001b[37m\u001b[0m \u001b[1m0s\u001b[0m 42ms/step - binary_accuracy: 0.9941 - loss: 0.2311 - val_binary_accuracy: 0.7803 - val_loss: 0.7226\n",
      "Epoch 99/200\n",
      "\u001b[1m2/2\u001b[0m \u001b[32m━━━━━━━━━━━━━━━━━━━━\u001b[0m\u001b[37m\u001b[0m \u001b[1m0s\u001b[0m 42ms/step - binary_accuracy: 0.9957 - loss: 0.2283 - val_binary_accuracy: 0.7803 - val_loss: 0.7195\n",
      "Epoch 100/200\n",
      "\u001b[1m2/2\u001b[0m \u001b[32m━━━━━━━━━━━━━━━━━━━━\u001b[0m\u001b[37m\u001b[0m \u001b[1m0s\u001b[0m 43ms/step - binary_accuracy: 0.9934 - loss: 0.2248 - val_binary_accuracy: 0.7758 - val_loss: 0.7171\n",
      "Epoch 101/200\n",
      "\u001b[1m2/2\u001b[0m \u001b[32m━━━━━━━━━━━━━━━━━━━━\u001b[0m\u001b[37m\u001b[0m \u001b[1m0s\u001b[0m 43ms/step - binary_accuracy: 0.9934 - loss: 0.2198 - val_binary_accuracy: 0.7758 - val_loss: 0.7157\n",
      "Epoch 102/200\n",
      "\u001b[1m2/2\u001b[0m \u001b[32m━━━━━━━━━━━━━━━━━━━━\u001b[0m\u001b[37m\u001b[0m \u001b[1m0s\u001b[0m 40ms/step - binary_accuracy: 0.9918 - loss: 0.2254 - val_binary_accuracy: 0.7758 - val_loss: 0.7161\n",
      "Epoch 103/200\n",
      "\u001b[1m2/2\u001b[0m \u001b[32m━━━━━━━━━━━━━━━━━━━━\u001b[0m\u001b[37m\u001b[0m \u001b[1m0s\u001b[0m 40ms/step - binary_accuracy: 0.9967 - loss: 0.2155 - val_binary_accuracy: 0.7803 - val_loss: 0.7170\n",
      "Epoch 104/200\n",
      "\u001b[1m2/2\u001b[0m \u001b[32m━━━━━━━━━━━━━━━━━━━━\u001b[0m\u001b[37m\u001b[0m \u001b[1m0s\u001b[0m 39ms/step - binary_accuracy: 0.9941 - loss: 0.2167 - val_binary_accuracy: 0.7803 - val_loss: 0.7186\n",
      "Epoch 105/200\n",
      "\u001b[1m2/2\u001b[0m \u001b[32m━━━━━━━━━━━━━━━━━━━━\u001b[0m\u001b[37m\u001b[0m \u001b[1m0s\u001b[0m 40ms/step - binary_accuracy: 0.9924 - loss: 0.2168 - val_binary_accuracy: 0.7758 - val_loss: 0.7205\n",
      "Epoch 106/200\n",
      "\u001b[1m2/2\u001b[0m \u001b[32m━━━━━━━━━━━━━━━━━━━━\u001b[0m\u001b[37m\u001b[0m \u001b[1m0s\u001b[0m 39ms/step - binary_accuracy: 0.9951 - loss: 0.2135 - val_binary_accuracy: 0.7578 - val_loss: 0.7235\n"
     ]
    },
    {
     "data": {
      "text/plain": [
       "<Axes: title={'center': 'Accuracy'}>"
      ]
     },
     "execution_count": 5,
     "metadata": {},
     "output_type": "execute_result"
    },
    {
     "data": {
      "image/png": "[encoded data removed]",
      "text/plain": [
       "<Figure size 640x480 with 1 Axes>"
      ]
     },
     "metadata": {},
     "output_type": "display_data"
    },
    {
     "data": {
      "image/png": "[encoded data removed]",
      "text/plain": [
       "<Figure size 640x480 with 1 Axes>"
      ]
     },
     "metadata": {},
     "output_type": "display_data"
    }
   ],
   "source": [
    "early_stopping = keras.callbacks.EarlyStopping(\n",
    "    patience=5,\n",
    "    min_delta=0.001,\n",
    "    restore_best_weights=True,\n",
    ")\n",
    "history = model.fit(\n",
    "    X_train, y_train,\n",
    "    validation_data=(X_valid, y_valid),\n",
    "    batch_size=512,\n",
    "    epochs=200,\n",
    "    callbacks=[early_stopping],\n",
    ")\n",
    "\n",
    "history_df = pd.DataFrame(history.history)\n",
    "history_df.loc[:, ['loss', 'val_loss']].plot(title=\"Cross-entropy\")\n",
    "history_df.loc[:, ['binary_accuracy', 'val_binary_accuracy']].plot(title=\"Accuracy\")"
   ]
  },
  {
   "cell_type": "code",
   "execution_count": 6,
   "id": "fdc8d339",
   "metadata": {
    "execution": {
     "iopub.execute_input": "2024-07-25T08:25:35.409109Z",
     "iopub.status.busy": "2024-07-25T08:25:35.408695Z",
     "iopub.status.idle": "2024-07-25T08:25:35.735450Z",
     "shell.execute_reply": "2024-07-25T08:25:35.734344Z"
    },
    "papermill": {
     "duration": 0.355218,
     "end_time": "2024-07-25T08:25:35.738018",
     "exception": false,
     "start_time": "2024-07-25T08:25:35.382800",
     "status": "completed"
    },
    "tags": []
   },
   "outputs": [
    {
     "name": "stdout",
     "output_type": "stream",
     "text": [
      "\u001b[1m14/14\u001b[0m \u001b[32m━━━━━━━━━━━━━━━━━━━━\u001b[0m\u001b[37m\u001b[0m \u001b[1m0s\u001b[0m 8ms/step\n"
     ]
    }
   ],
   "source": [
    "import pandas as pd\n",
    "import numpy as np\n",
    "import tensorflow as tf\n",
    "\n",
    "# Load the test data\n",
    "test_df = pd.read_csv('/kaggle/input/titanic/test.csv')\n",
    "\n",
    "# Extract PassengerId for the submission\n",
    "passenger_ids = test_df['PassengerId']\n",
    "test_df['FamilySize'] = calculate_family_size(test_df)\n",
    "test_df['Title'] = extract_title(test_df)\n",
    "# Ensure the test set has the correct columns before transformation\n",
    "# The columns used in training need to be present in the test set.\n",
    "required_columns = ['Pclass', 'Age', 'FamilySize', 'Fare', 'Sex', 'Embarked']\n",
    "\n",
    "# Handle missing columns that might not be in the test set\n",
    "for col in required_columns:\n",
    "    if col not in test_df.columns:\n",
    "        # If a column is missing, you can add it with a default value\n",
    "        if col in ['Age', 'Fare']:\n",
    "            test_df[col] = np.nan  # You can choose a default value or keep NaN for imputation\n",
    "        else:\n",
    "            test_df[col] = 'missing'  # Placeholder for categorical missing values\n",
    "\n",
    "# Ensure the test set matches the training set's features\n",
    "# Use the same transformations as applied to the training data\n",
    "test_df_transformed = preprocessor.transform(test_df)  # Using the preprocessor from the training phase\n",
    "\n",
    "# Convert the test data to float32 as required by the model\n",
    "test_df_transformed = test_df_transformed.astype('float32')\n",
    "\n",
    "# Make predictions\n",
    "predictions = model.predict(test_df_transformed)\n",
    "\n",
    "# Convert predictions to class labels\n",
    "predicted_labels = (predictions > 0.5).astype(int).flatten()  # Convert probabilities to 0 or 1\n",
    "\n",
    "# Create a DataFrame with the submission data\n",
    "submission_df = pd.DataFrame({\n",
    "    'PassengerId': passenger_ids,  # Ensure these match the test set order\n",
    "    'Survived': predicted_labels\n",
    "})\n",
    "\n",
    "# Save the DataFrame to a CSV file\n",
    "submission_file = 'submission.csv'\n",
    "submission_df.to_csv(submission_file, index=False)"
   ]
  }
 ],
 "metadata": {
  "kaggle": {
   "accelerator": "none",
   "dataSources": [
    {
     "databundleVersionId": 26502,
     "sourceId": 3136,
     "sourceType": "competition"
    },
    {
     "datasetId": 5438082,
     "sourceId": 9023676,
     "sourceType": "datasetVersion"
    }
   ],
   "dockerImageVersionId": 30746,
   "isGpuEnabled": false,
   "isInternetEnabled": false,
   "language": "python",
   "sourceType": "notebook"
  },
  "kernelspec": {
   "display_name": "Python 3",
   "language": "python",
   "name": "python3"
  },
  "language_info": {
   "codemirror_mode": {
    "name": "ipython",
    "version": 3
   },
   "file_extension": ".py",
   "mimetype": "text/x-python",
   "name": "python",
   "nbconvert_exporter": "python",
   "pygments_lexer": "ipython3",
   "version": "3.10.13"
  },
  "papermill": {
   "default_parameters": {},
   "duration": 34.053287,
   "end_time": "2024-07-25T08:25:38.040137",
   "environment_variables": {},
   "exception": null,
   "input_path": "__notebook__.ipynb",
   "output_path": "__notebook__.ipynb",
   "parameters": {},
   "start_time": "2024-07-25T08:25:03.986850",
   "version": "2.5.0"
  }
 },
 "nbformat": 4,
 "nbformat_minor": 5
}
